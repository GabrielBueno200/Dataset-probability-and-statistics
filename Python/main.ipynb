{
 "cells": [
  {
   "cell_type": "markdown",
   "metadata": {
    "collapsed": true,
    "pycharm": {
     "name": "#%% md\n"
    }
   },
   "source": [
    "# Probability and statistics in Python"
   ]
  },
  {
   "cell_type": "markdown",
   "metadata": {},
   "source": [
    "### Import Dataset"
   ]
  },
  {
   "cell_type": "code",
   "execution_count": 62,
   "metadata": {
    "pycharm": {
     "name": "#%%\n"
    }
   },
   "outputs": [
    {
     "name": "stdout",
     "output_type": "stream",
     "text": [
      "Number of rows and columns: (53791, 16)\n"
     ]
    },
    {
     "data": {
      "text/plain": "       video_id                                              title  \\\n0   3C66w5Z0ixs                 I ASKED HER TO BE MY GIRLFRIEND...   \n1   M9Pmf9AB4Mo  Apex Legends | Stories from the Outlands – “Th...   \n2   J78aPJ3VyNs  I left youtube for a month and THIS is what ha...   \n3   kXLn3HkpjaA  XXL 2020 Freshman Class Revealed - Official An...   \n4   VIUo6yapDbc  Ultimate DIY Home Movie Theater for The LaBran...   \n5   w-aidBdvZo8  I Haven't Been Honest About My Injury.. Here's...   \n6   uet14uf9NsE                           OUR FIRST FAMILY INTRO!!   \n7   ua4QMFQATco                                 CGP Grey was WRONG   \n8   SnsPZj91R7E  SURPRISING MY DAD WITH HIS DREAM TRUCK!! | Lou...   \n9   SsWHMAhshPQ  Ovi x Natanael Cano x Aleman x Big Soto - Veng...   \n10  49Z6Mv4_WCA                 i don't know what im doing anymore   \n11  nt3VVyv5pxQ                     Try Not To Laugh Challenge #51   \n12  I6hswz4rIrU  Rainbow Six Siege: Operation Shadow Legacy Rev...   \n13  W7VK4DUHvKU   Lil Yachty & Future - Pardon Me (Official Video)   \n14  W9Aen8hG20Y  When Our Generation Gets Old and Hears a Throw...   \n15  BNeDH6UTmXw               Ten Minutes with Tyler Cameron | Q&A   \n16  6TIsR_7nrNc  Kylie Jenner Reacts To 'WAP' Music Video Backlash   \n17  gPdUslndvVI                            Our Farm Got Destroyed.   \n18  GTp-0S82guE                                     Time to Talk..   \n19  jbGRowa5tIk                          ITZY “Not Shy” M/V TEASER   \n20  vePc5V4h_kg      Shark Attack Test- Human Blood vs. Fish Blood   \n21  5WjcDji3xYc       Honest Trailers | Avatar: The Last Airbender   \n22  FopIxceEr8g    EXTREME Game of Hide and Seek in my NEW HOUSE!!   \n23  p7HGUZWq_8s                          Doing Doja Cat’s Makeup!!   \n24  AMXT1ok5UBg                                   THIS IS THE END.   \n\n             publishedAt                 channelId           channelTitle  \\\n0   2020-08-11T19:20:14Z  UCvtRTOMP2TqYqu51xNrqAzg               Brawadis   \n1   2020-08-11T17:00:10Z  UC0ZV6M2THA81QT9hrVWJG3A           Apex Legends   \n2   2020-08-11T16:34:06Z  UCYzPXprvl5Y-Sf0g4vX-m6g          jacksepticeye   \n3   2020-08-11T16:38:55Z  UCbg_UMjlHJg_19SZckaKajg                    XXL   \n4   2020-08-11T15:10:05Z  UCDVPcEbVLQgLZX0Rt6jo34A               Mr. Kate   \n5   2020-08-11T20:00:04Z  UC5zJwsFtEs9WYe3A76p7xIA         Professor Live   \n6   2020-08-12T00:17:41Z  UCDSJCBYqL7VQrlXfhr1RtwA          Les Do Makeup   \n7   2020-08-11T17:15:11Z  UC2C_jShtL725hvbm1arSV9w               CGP Grey   \n8   2020-08-10T22:26:59Z  UCZDdF_p-L88NWVpzF0vjvMQ           Louie's Life   \n9   2020-08-11T23:00:10Z  UC648rgJOboZlgcDbW00vTSA         Rancho Humilde   \n10  2020-08-11T20:24:34Z  UCtinbF-Q-fVthA0qrFQTgXQ           CaseyNeistat   \n11  2020-08-11T17:00:31Z  UCYJPby9DRCteedh5tfxVbrw              Smosh Pit   \n12  2020-08-11T17:13:53Z  UCBMvc6jvuTxH6TNo9ThpYjg  Ubisoft North America   \n13  2020-08-11T19:00:10Z  UC1X3TRsCt36QPjF1p5f3HTg          LilYachtyVEVO   \n14  2020-08-10T22:33:48Z  UCR9NuNwCUIhMOLUQnLN7_WA              Kyle Exum   \n15  2020-08-11T22:00:05Z  UCMw7m-ScQ6jV1FQzQnn1y8Q          Tyler Cameron   \n16  2020-08-10T18:41:19Z  UC2rJLq19N0dGrxfib80M_fg          HollywoodLife   \n17  2020-08-11T23:00:06Z  UCuxlXCfVyV-i5YLL30jkomw      Cole The Cornstar   \n18  2020-08-11T12:04:40Z  UCCgLoMYIyP0U56dEhEL1wXQ             Chloe Ting   \n19  2020-08-11T15:00:13Z  UCaO6TYtlC8U5ttz62hTrZgg      JYP Entertainment   \n20  2020-08-09T16:00:11Z  UCY1kMZp36IQSyNx_9h4mpCg             Mark Rober   \n21  2020-08-11T17:03:59Z  UCOpcACMWblDls9Z6GERVi1A         Screen Junkies   \n22  2020-08-10T17:09:53Z  UCilwZiBBfI9X6yiZRzWty8Q               FaZe Rug   \n23  2020-08-11T19:00:09Z  UCucot-Zp428OwkyRm2I7v2Q          James Charles   \n24  2020-08-11T23:00:02Z  UCWwWOFsW68TqXE-HZLC3WIA         The ACE Family   \n\n    categoryId         trending_date  \\\n0           22  2020-08-12T00:00:00Z   \n1           20  2020-08-12T00:00:00Z   \n2           24  2020-08-12T00:00:00Z   \n3           10  2020-08-12T00:00:00Z   \n4           26  2020-08-12T00:00:00Z   \n5           24  2020-08-12T00:00:00Z   \n6           26  2020-08-12T00:00:00Z   \n7           27  2020-08-12T00:00:00Z   \n8           24  2020-08-12T00:00:00Z   \n9           10  2020-08-12T00:00:00Z   \n10          22  2020-08-12T00:00:00Z   \n11          22  2020-08-12T00:00:00Z   \n12          20  2020-08-12T00:00:00Z   \n13          10  2020-08-12T00:00:00Z   \n14          23  2020-08-12T00:00:00Z   \n15          22  2020-08-12T00:00:00Z   \n16          24  2020-08-12T00:00:00Z   \n17          22  2020-08-12T00:00:00Z   \n18          26  2020-08-12T00:00:00Z   \n19          10  2020-08-12T00:00:00Z   \n20          28  2020-08-12T00:00:00Z   \n21           1  2020-08-12T00:00:00Z   \n22          24  2020-08-12T00:00:00Z   \n23          24  2020-08-12T00:00:00Z   \n24          22  2020-08-12T00:00:00Z   \n\n                                                 tags  view_count   likes  \\\n0   brawadis|prank|basketball|skits|ghost|funny vi...     1514614  156908   \n1   Apex Legends|Apex Legends characters|new Apex ...     2381688  146739   \n2   jacksepticeye|funny|funny meme|memes|jacksepti...     2038853  353787   \n3   xxl freshman|xxl freshmen|2020 xxl freshman|20...      496771   23251   \n4   The LaBrant Family|DIY|Interior Design|Makeove...     1123889   45802   \n5   Professor injury|professor achilles|professor ...      949491   77487   \n6                                              [None]      470446   47990   \n7                    cgpgrey|education|hello internet     1050143   89190   \n8   surprising|dad|father|papa|with|dream|car|truc...     1402687   95694   \n9   Vengo De Nada|Aleman|Ovi|Big Soto|Trap|Ovi Nat...      741028  113983   \n10                                             [None]      940036   87111   \n11           smosh|smosh pit|smosh games|funny|comedy      591837   44168   \n12  R6|R6S|Siege|New Siege|New Operators|New Ops|G...      320872   14288   \n13  Lil Yachty|Lil Boat 3|Future Lil Yachty|Pardon...      413372   26440   \n14  When Our Generation Gets Old and Hears a Throw...      921261  124183   \n15  the bachelor|the bachelorette|Tyler c|Tyler Ca...      105955    4511   \n16  kylie jenner|kendall jenner|cardi b|wap|reacts...     1007540   10102   \n17  farming|family farm|agriculture|agriculture jo...      277338   37533   \n18  chloe ting|chloeting|defamation|cyber bullying...     1648441  130147   \n19  JYP Entertainment|JYP|ITZY|있지|ITZY Video|ITZY ...     5999732  714287   \n20  sharks|sharkweek|jaws|shark attack|blood in wa...    14684474  544038   \n21  screenjunkies|screen junkies|honest trailers|h...      833369   50181   \n22  faze rug|rug|rugfaze|fazerug|hide n seek|hide ...     3061467  206840   \n23  james|james charles|makeup artist|covergirl|co...     3662673  394675   \n24  the ace family this is the end|ace family this...     2630410  185419   \n\n    dislikes  comment_count                                  thumbnail_link  \\\n0       5855          35313  https://i.ytimg.com/vi/3C66w5Z0ixs/default.jpg   \n1       2794          16549  https://i.ytimg.com/vi/M9Pmf9AB4Mo/default.jpg   \n2       2628          40221  https://i.ytimg.com/vi/J78aPJ3VyNs/default.jpg   \n3       1856           7647  https://i.ytimg.com/vi/kXLn3HkpjaA/default.jpg   \n4        964           2196  https://i.ytimg.com/vi/VIUo6yapDbc/default.jpg   \n5        746           7506  https://i.ytimg.com/vi/w-aidBdvZo8/default.jpg   \n6        440           4558  https://i.ytimg.com/vi/uet14uf9NsE/default.jpg   \n7        854           6455  https://i.ytimg.com/vi/ua4QMFQATco/default.jpg   \n8       2158           6613  https://i.ytimg.com/vi/SnsPZj91R7E/default.jpg   \n9       4373           5618  https://i.ytimg.com/vi/SsWHMAhshPQ/default.jpg   \n10      1860           7052  https://i.ytimg.com/vi/49Z6Mv4_WCA/default.jpg   \n11       409           2652  https://i.ytimg.com/vi/nt3VVyv5pxQ/default.jpg   \n12       774           2085  https://i.ytimg.com/vi/I6hswz4rIrU/default.jpg   \n13       293           1495  https://i.ytimg.com/vi/W7VK4DUHvKU/default.jpg   \n14      1678          16460  https://i.ytimg.com/vi/W9Aen8hG20Y/default.jpg   \n15        69            673  https://i.ytimg.com/vi/BNeDH6UTmXw/default.jpg   \n16      7932           2763  https://i.ytimg.com/vi/6TIsR_7nrNc/default.jpg   \n17       197           3666  https://i.ytimg.com/vi/gPdUslndvVI/default.jpg   \n18      1425          15773  https://i.ytimg.com/vi/GTp-0S82guE/default.jpg   \n19     15174          31039  https://i.ytimg.com/vi/jbGRowa5tIk/default.jpg   \n20     15818          33507  https://i.ytimg.com/vi/vePc5V4h_kg/default.jpg   \n21      1120           4634  https://i.ytimg.com/vi/5WjcDji3xYc/default.jpg   \n22      2646          14934  https://i.ytimg.com/vi/FopIxceEr8g/default.jpg   \n23      5757          27346  https://i.ytimg.com/vi/p7HGUZWq_8s/default.jpg   \n24      4744          15908  https://i.ytimg.com/vi/AMXT1ok5UBg/default.jpg   \n\n    comments_disabled  ratings_disabled  \\\n0               False             False   \n1               False             False   \n2               False             False   \n3               False             False   \n4               False             False   \n5               False             False   \n6               False             False   \n7               False             False   \n8               False             False   \n9               False             False   \n10              False             False   \n11              False             False   \n12              False             False   \n13              False             False   \n14              False             False   \n15              False             False   \n16              False             False   \n17              False             False   \n18              False             False   \n19              False             False   \n20              False             False   \n21              False             False   \n22              False             False   \n23              False             False   \n24              False             False   \n\n                                          description  \n0   SUBSCRIBE to BRAWADIS ▶ http://bit.ly/Subscrib...  \n1   While running her own modding shop, Ramya Pare...  \n2   I left youtube for a month and this is what ha...  \n3   Subscribe to XXL → http://bit.ly/subscribe-xxl...  \n4   Transforming The LaBrant Family's empty white ...  \n5   Subscribe To My Channel - https://www.youtube....  \n6   Hi babygirls!  Thank you so much for watching ...  \n7   ‣ What Was TEKOI: https://www.youtube.com/watc...  \n8   Since I was little, i've had these goals for m...  \n9   Vengo De Nada - Ovi x Natanael Cano x Aleman x...  \n10  ssend love to my sponsor; for a super Limited ...  \n11  You know what time it is— time to try not to l...  \n12  “Prepare. Execute. Vanish”Sam Fisher joins Tea...  \n13  Watch the official video for Lil Yachty & Futu...  \n14  500,000 Likes and I’ll drop a Part 6!Thanks fo...  \n15  Come hang out me with me for 10 minutes where ...  \n16  Kylie Jenner dissed over cameo in Cardi B and ...  \n17  Wind storm, rain, and lots of destruction; wel...  \n18  I talked about some claims about me that was h...  \n19  ITZY Not Shy M/V[ITZY Official] https://www.yo...  \n20  I personally got in the water and tested if Sh...  \n21  ►►Subscribe to ScreenJunkies!► https://fandom....  \n22  THIS WAS SO MUCH FUNWe played hide n seek for ...  \n23  HI SISTERS! Today’s video is a collaboration w...  \n24  THIS IS THE END.Shop on The RealReal and get $...  ",
      "text/html": "<div>\n<style scoped>\n    .dataframe tbody tr th:only-of-type {\n        vertical-align: middle;\n    }\n\n    .dataframe tbody tr th {\n        vertical-align: top;\n    }\n\n    .dataframe thead th {\n        text-align: right;\n    }\n</style>\n<table border=\"1\" class=\"dataframe\">\n  <thead>\n    <tr style=\"text-align: right;\">\n      <th></th>\n      <th>video_id</th>\n      <th>title</th>\n      <th>publishedAt</th>\n      <th>channelId</th>\n      <th>channelTitle</th>\n      <th>categoryId</th>\n      <th>trending_date</th>\n      <th>tags</th>\n      <th>view_count</th>\n      <th>likes</th>\n      <th>dislikes</th>\n      <th>comment_count</th>\n      <th>thumbnail_link</th>\n      <th>comments_disabled</th>\n      <th>ratings_disabled</th>\n      <th>description</th>\n    </tr>\n  </thead>\n  <tbody>\n    <tr>\n      <th>0</th>\n      <td>3C66w5Z0ixs</td>\n      <td>I ASKED HER TO BE MY GIRLFRIEND...</td>\n      <td>2020-08-11T19:20:14Z</td>\n      <td>UCvtRTOMP2TqYqu51xNrqAzg</td>\n      <td>Brawadis</td>\n      <td>22</td>\n      <td>2020-08-12T00:00:00Z</td>\n      <td>brawadis|prank|basketball|skits|ghost|funny vi...</td>\n      <td>1514614</td>\n      <td>156908</td>\n      <td>5855</td>\n      <td>35313</td>\n      <td>https://i.ytimg.com/vi/3C66w5Z0ixs/default.jpg</td>\n      <td>False</td>\n      <td>False</td>\n      <td>SUBSCRIBE to BRAWADIS ▶ http://bit.ly/Subscrib...</td>\n    </tr>\n    <tr>\n      <th>1</th>\n      <td>M9Pmf9AB4Mo</td>\n      <td>Apex Legends | Stories from the Outlands – “Th...</td>\n      <td>2020-08-11T17:00:10Z</td>\n      <td>UC0ZV6M2THA81QT9hrVWJG3A</td>\n      <td>Apex Legends</td>\n      <td>20</td>\n      <td>2020-08-12T00:00:00Z</td>\n      <td>Apex Legends|Apex Legends characters|new Apex ...</td>\n      <td>2381688</td>\n      <td>146739</td>\n      <td>2794</td>\n      <td>16549</td>\n      <td>https://i.ytimg.com/vi/M9Pmf9AB4Mo/default.jpg</td>\n      <td>False</td>\n      <td>False</td>\n      <td>While running her own modding shop, Ramya Pare...</td>\n    </tr>\n    <tr>\n      <th>2</th>\n      <td>J78aPJ3VyNs</td>\n      <td>I left youtube for a month and THIS is what ha...</td>\n      <td>2020-08-11T16:34:06Z</td>\n      <td>UCYzPXprvl5Y-Sf0g4vX-m6g</td>\n      <td>jacksepticeye</td>\n      <td>24</td>\n      <td>2020-08-12T00:00:00Z</td>\n      <td>jacksepticeye|funny|funny meme|memes|jacksepti...</td>\n      <td>2038853</td>\n      <td>353787</td>\n      <td>2628</td>\n      <td>40221</td>\n      <td>https://i.ytimg.com/vi/J78aPJ3VyNs/default.jpg</td>\n      <td>False</td>\n      <td>False</td>\n      <td>I left youtube for a month and this is what ha...</td>\n    </tr>\n    <tr>\n      <th>3</th>\n      <td>kXLn3HkpjaA</td>\n      <td>XXL 2020 Freshman Class Revealed - Official An...</td>\n      <td>2020-08-11T16:38:55Z</td>\n      <td>UCbg_UMjlHJg_19SZckaKajg</td>\n      <td>XXL</td>\n      <td>10</td>\n      <td>2020-08-12T00:00:00Z</td>\n      <td>xxl freshman|xxl freshmen|2020 xxl freshman|20...</td>\n      <td>496771</td>\n      <td>23251</td>\n      <td>1856</td>\n      <td>7647</td>\n      <td>https://i.ytimg.com/vi/kXLn3HkpjaA/default.jpg</td>\n      <td>False</td>\n      <td>False</td>\n      <td>Subscribe to XXL → http://bit.ly/subscribe-xxl...</td>\n    </tr>\n    <tr>\n      <th>4</th>\n      <td>VIUo6yapDbc</td>\n      <td>Ultimate DIY Home Movie Theater for The LaBran...</td>\n      <td>2020-08-11T15:10:05Z</td>\n      <td>UCDVPcEbVLQgLZX0Rt6jo34A</td>\n      <td>Mr. Kate</td>\n      <td>26</td>\n      <td>2020-08-12T00:00:00Z</td>\n      <td>The LaBrant Family|DIY|Interior Design|Makeove...</td>\n      <td>1123889</td>\n      <td>45802</td>\n      <td>964</td>\n      <td>2196</td>\n      <td>https://i.ytimg.com/vi/VIUo6yapDbc/default.jpg</td>\n      <td>False</td>\n      <td>False</td>\n      <td>Transforming The LaBrant Family's empty white ...</td>\n    </tr>\n    <tr>\n      <th>5</th>\n      <td>w-aidBdvZo8</td>\n      <td>I Haven't Been Honest About My Injury.. Here's...</td>\n      <td>2020-08-11T20:00:04Z</td>\n      <td>UC5zJwsFtEs9WYe3A76p7xIA</td>\n      <td>Professor Live</td>\n      <td>24</td>\n      <td>2020-08-12T00:00:00Z</td>\n      <td>Professor injury|professor achilles|professor ...</td>\n      <td>949491</td>\n      <td>77487</td>\n      <td>746</td>\n      <td>7506</td>\n      <td>https://i.ytimg.com/vi/w-aidBdvZo8/default.jpg</td>\n      <td>False</td>\n      <td>False</td>\n      <td>Subscribe To My Channel - https://www.youtube....</td>\n    </tr>\n    <tr>\n      <th>6</th>\n      <td>uet14uf9NsE</td>\n      <td>OUR FIRST FAMILY INTRO!!</td>\n      <td>2020-08-12T00:17:41Z</td>\n      <td>UCDSJCBYqL7VQrlXfhr1RtwA</td>\n      <td>Les Do Makeup</td>\n      <td>26</td>\n      <td>2020-08-12T00:00:00Z</td>\n      <td>[None]</td>\n      <td>470446</td>\n      <td>47990</td>\n      <td>440</td>\n      <td>4558</td>\n      <td>https://i.ytimg.com/vi/uet14uf9NsE/default.jpg</td>\n      <td>False</td>\n      <td>False</td>\n      <td>Hi babygirls!  Thank you so much for watching ...</td>\n    </tr>\n    <tr>\n      <th>7</th>\n      <td>ua4QMFQATco</td>\n      <td>CGP Grey was WRONG</td>\n      <td>2020-08-11T17:15:11Z</td>\n      <td>UC2C_jShtL725hvbm1arSV9w</td>\n      <td>CGP Grey</td>\n      <td>27</td>\n      <td>2020-08-12T00:00:00Z</td>\n      <td>cgpgrey|education|hello internet</td>\n      <td>1050143</td>\n      <td>89190</td>\n      <td>854</td>\n      <td>6455</td>\n      <td>https://i.ytimg.com/vi/ua4QMFQATco/default.jpg</td>\n      <td>False</td>\n      <td>False</td>\n      <td>‣ What Was TEKOI: https://www.youtube.com/watc...</td>\n    </tr>\n    <tr>\n      <th>8</th>\n      <td>SnsPZj91R7E</td>\n      <td>SURPRISING MY DAD WITH HIS DREAM TRUCK!! | Lou...</td>\n      <td>2020-08-10T22:26:59Z</td>\n      <td>UCZDdF_p-L88NWVpzF0vjvMQ</td>\n      <td>Louie's Life</td>\n      <td>24</td>\n      <td>2020-08-12T00:00:00Z</td>\n      <td>surprising|dad|father|papa|with|dream|car|truc...</td>\n      <td>1402687</td>\n      <td>95694</td>\n      <td>2158</td>\n      <td>6613</td>\n      <td>https://i.ytimg.com/vi/SnsPZj91R7E/default.jpg</td>\n      <td>False</td>\n      <td>False</td>\n      <td>Since I was little, i've had these goals for m...</td>\n    </tr>\n    <tr>\n      <th>9</th>\n      <td>SsWHMAhshPQ</td>\n      <td>Ovi x Natanael Cano x Aleman x Big Soto - Veng...</td>\n      <td>2020-08-11T23:00:10Z</td>\n      <td>UC648rgJOboZlgcDbW00vTSA</td>\n      <td>Rancho Humilde</td>\n      <td>10</td>\n      <td>2020-08-12T00:00:00Z</td>\n      <td>Vengo De Nada|Aleman|Ovi|Big Soto|Trap|Ovi Nat...</td>\n      <td>741028</td>\n      <td>113983</td>\n      <td>4373</td>\n      <td>5618</td>\n      <td>https://i.ytimg.com/vi/SsWHMAhshPQ/default.jpg</td>\n      <td>False</td>\n      <td>False</td>\n      <td>Vengo De Nada - Ovi x Natanael Cano x Aleman x...</td>\n    </tr>\n    <tr>\n      <th>10</th>\n      <td>49Z6Mv4_WCA</td>\n      <td>i don't know what im doing anymore</td>\n      <td>2020-08-11T20:24:34Z</td>\n      <td>UCtinbF-Q-fVthA0qrFQTgXQ</td>\n      <td>CaseyNeistat</td>\n      <td>22</td>\n      <td>2020-08-12T00:00:00Z</td>\n      <td>[None]</td>\n      <td>940036</td>\n      <td>87111</td>\n      <td>1860</td>\n      <td>7052</td>\n      <td>https://i.ytimg.com/vi/49Z6Mv4_WCA/default.jpg</td>\n      <td>False</td>\n      <td>False</td>\n      <td>ssend love to my sponsor; for a super Limited ...</td>\n    </tr>\n    <tr>\n      <th>11</th>\n      <td>nt3VVyv5pxQ</td>\n      <td>Try Not To Laugh Challenge #51</td>\n      <td>2020-08-11T17:00:31Z</td>\n      <td>UCYJPby9DRCteedh5tfxVbrw</td>\n      <td>Smosh Pit</td>\n      <td>22</td>\n      <td>2020-08-12T00:00:00Z</td>\n      <td>smosh|smosh pit|smosh games|funny|comedy</td>\n      <td>591837</td>\n      <td>44168</td>\n      <td>409</td>\n      <td>2652</td>\n      <td>https://i.ytimg.com/vi/nt3VVyv5pxQ/default.jpg</td>\n      <td>False</td>\n      <td>False</td>\n      <td>You know what time it is— time to try not to l...</td>\n    </tr>\n    <tr>\n      <th>12</th>\n      <td>I6hswz4rIrU</td>\n      <td>Rainbow Six Siege: Operation Shadow Legacy Rev...</td>\n      <td>2020-08-11T17:13:53Z</td>\n      <td>UCBMvc6jvuTxH6TNo9ThpYjg</td>\n      <td>Ubisoft North America</td>\n      <td>20</td>\n      <td>2020-08-12T00:00:00Z</td>\n      <td>R6|R6S|Siege|New Siege|New Operators|New Ops|G...</td>\n      <td>320872</td>\n      <td>14288</td>\n      <td>774</td>\n      <td>2085</td>\n      <td>https://i.ytimg.com/vi/I6hswz4rIrU/default.jpg</td>\n      <td>False</td>\n      <td>False</td>\n      <td>“Prepare. Execute. Vanish”Sam Fisher joins Tea...</td>\n    </tr>\n    <tr>\n      <th>13</th>\n      <td>W7VK4DUHvKU</td>\n      <td>Lil Yachty &amp; Future - Pardon Me (Official Video)</td>\n      <td>2020-08-11T19:00:10Z</td>\n      <td>UC1X3TRsCt36QPjF1p5f3HTg</td>\n      <td>LilYachtyVEVO</td>\n      <td>10</td>\n      <td>2020-08-12T00:00:00Z</td>\n      <td>Lil Yachty|Lil Boat 3|Future Lil Yachty|Pardon...</td>\n      <td>413372</td>\n      <td>26440</td>\n      <td>293</td>\n      <td>1495</td>\n      <td>https://i.ytimg.com/vi/W7VK4DUHvKU/default.jpg</td>\n      <td>False</td>\n      <td>False</td>\n      <td>Watch the official video for Lil Yachty &amp; Futu...</td>\n    </tr>\n    <tr>\n      <th>14</th>\n      <td>W9Aen8hG20Y</td>\n      <td>When Our Generation Gets Old and Hears a Throw...</td>\n      <td>2020-08-10T22:33:48Z</td>\n      <td>UCR9NuNwCUIhMOLUQnLN7_WA</td>\n      <td>Kyle Exum</td>\n      <td>23</td>\n      <td>2020-08-12T00:00:00Z</td>\n      <td>When Our Generation Gets Old and Hears a Throw...</td>\n      <td>921261</td>\n      <td>124183</td>\n      <td>1678</td>\n      <td>16460</td>\n      <td>https://i.ytimg.com/vi/W9Aen8hG20Y/default.jpg</td>\n      <td>False</td>\n      <td>False</td>\n      <td>500,000 Likes and I’ll drop a Part 6!Thanks fo...</td>\n    </tr>\n    <tr>\n      <th>15</th>\n      <td>BNeDH6UTmXw</td>\n      <td>Ten Minutes with Tyler Cameron | Q&amp;A</td>\n      <td>2020-08-11T22:00:05Z</td>\n      <td>UCMw7m-ScQ6jV1FQzQnn1y8Q</td>\n      <td>Tyler Cameron</td>\n      <td>22</td>\n      <td>2020-08-12T00:00:00Z</td>\n      <td>the bachelor|the bachelorette|Tyler c|Tyler Ca...</td>\n      <td>105955</td>\n      <td>4511</td>\n      <td>69</td>\n      <td>673</td>\n      <td>https://i.ytimg.com/vi/BNeDH6UTmXw/default.jpg</td>\n      <td>False</td>\n      <td>False</td>\n      <td>Come hang out me with me for 10 minutes where ...</td>\n    </tr>\n    <tr>\n      <th>16</th>\n      <td>6TIsR_7nrNc</td>\n      <td>Kylie Jenner Reacts To 'WAP' Music Video Backlash</td>\n      <td>2020-08-10T18:41:19Z</td>\n      <td>UC2rJLq19N0dGrxfib80M_fg</td>\n      <td>HollywoodLife</td>\n      <td>24</td>\n      <td>2020-08-12T00:00:00Z</td>\n      <td>kylie jenner|kendall jenner|cardi b|wap|reacts...</td>\n      <td>1007540</td>\n      <td>10102</td>\n      <td>7932</td>\n      <td>2763</td>\n      <td>https://i.ytimg.com/vi/6TIsR_7nrNc/default.jpg</td>\n      <td>False</td>\n      <td>False</td>\n      <td>Kylie Jenner dissed over cameo in Cardi B and ...</td>\n    </tr>\n    <tr>\n      <th>17</th>\n      <td>gPdUslndvVI</td>\n      <td>Our Farm Got Destroyed.</td>\n      <td>2020-08-11T23:00:06Z</td>\n      <td>UCuxlXCfVyV-i5YLL30jkomw</td>\n      <td>Cole The Cornstar</td>\n      <td>22</td>\n      <td>2020-08-12T00:00:00Z</td>\n      <td>farming|family farm|agriculture|agriculture jo...</td>\n      <td>277338</td>\n      <td>37533</td>\n      <td>197</td>\n      <td>3666</td>\n      <td>https://i.ytimg.com/vi/gPdUslndvVI/default.jpg</td>\n      <td>False</td>\n      <td>False</td>\n      <td>Wind storm, rain, and lots of destruction; wel...</td>\n    </tr>\n    <tr>\n      <th>18</th>\n      <td>GTp-0S82guE</td>\n      <td>Time to Talk..</td>\n      <td>2020-08-11T12:04:40Z</td>\n      <td>UCCgLoMYIyP0U56dEhEL1wXQ</td>\n      <td>Chloe Ting</td>\n      <td>26</td>\n      <td>2020-08-12T00:00:00Z</td>\n      <td>chloe ting|chloeting|defamation|cyber bullying...</td>\n      <td>1648441</td>\n      <td>130147</td>\n      <td>1425</td>\n      <td>15773</td>\n      <td>https://i.ytimg.com/vi/GTp-0S82guE/default.jpg</td>\n      <td>False</td>\n      <td>False</td>\n      <td>I talked about some claims about me that was h...</td>\n    </tr>\n    <tr>\n      <th>19</th>\n      <td>jbGRowa5tIk</td>\n      <td>ITZY “Not Shy” M/V TEASER</td>\n      <td>2020-08-11T15:00:13Z</td>\n      <td>UCaO6TYtlC8U5ttz62hTrZgg</td>\n      <td>JYP Entertainment</td>\n      <td>10</td>\n      <td>2020-08-12T00:00:00Z</td>\n      <td>JYP Entertainment|JYP|ITZY|있지|ITZY Video|ITZY ...</td>\n      <td>5999732</td>\n      <td>714287</td>\n      <td>15174</td>\n      <td>31039</td>\n      <td>https://i.ytimg.com/vi/jbGRowa5tIk/default.jpg</td>\n      <td>False</td>\n      <td>False</td>\n      <td>ITZY Not Shy M/V[ITZY Official] https://www.yo...</td>\n    </tr>\n    <tr>\n      <th>20</th>\n      <td>vePc5V4h_kg</td>\n      <td>Shark Attack Test- Human Blood vs. Fish Blood</td>\n      <td>2020-08-09T16:00:11Z</td>\n      <td>UCY1kMZp36IQSyNx_9h4mpCg</td>\n      <td>Mark Rober</td>\n      <td>28</td>\n      <td>2020-08-12T00:00:00Z</td>\n      <td>sharks|sharkweek|jaws|shark attack|blood in wa...</td>\n      <td>14684474</td>\n      <td>544038</td>\n      <td>15818</td>\n      <td>33507</td>\n      <td>https://i.ytimg.com/vi/vePc5V4h_kg/default.jpg</td>\n      <td>False</td>\n      <td>False</td>\n      <td>I personally got in the water and tested if Sh...</td>\n    </tr>\n    <tr>\n      <th>21</th>\n      <td>5WjcDji3xYc</td>\n      <td>Honest Trailers | Avatar: The Last Airbender</td>\n      <td>2020-08-11T17:03:59Z</td>\n      <td>UCOpcACMWblDls9Z6GERVi1A</td>\n      <td>Screen Junkies</td>\n      <td>1</td>\n      <td>2020-08-12T00:00:00Z</td>\n      <td>screenjunkies|screen junkies|honest trailers|h...</td>\n      <td>833369</td>\n      <td>50181</td>\n      <td>1120</td>\n      <td>4634</td>\n      <td>https://i.ytimg.com/vi/5WjcDji3xYc/default.jpg</td>\n      <td>False</td>\n      <td>False</td>\n      <td>►►Subscribe to ScreenJunkies!► https://fandom....</td>\n    </tr>\n    <tr>\n      <th>22</th>\n      <td>FopIxceEr8g</td>\n      <td>EXTREME Game of Hide and Seek in my NEW HOUSE!!</td>\n      <td>2020-08-10T17:09:53Z</td>\n      <td>UCilwZiBBfI9X6yiZRzWty8Q</td>\n      <td>FaZe Rug</td>\n      <td>24</td>\n      <td>2020-08-12T00:00:00Z</td>\n      <td>faze rug|rug|rugfaze|fazerug|hide n seek|hide ...</td>\n      <td>3061467</td>\n      <td>206840</td>\n      <td>2646</td>\n      <td>14934</td>\n      <td>https://i.ytimg.com/vi/FopIxceEr8g/default.jpg</td>\n      <td>False</td>\n      <td>False</td>\n      <td>THIS WAS SO MUCH FUNWe played hide n seek for ...</td>\n    </tr>\n    <tr>\n      <th>23</th>\n      <td>p7HGUZWq_8s</td>\n      <td>Doing Doja Cat’s Makeup!!</td>\n      <td>2020-08-11T19:00:09Z</td>\n      <td>UCucot-Zp428OwkyRm2I7v2Q</td>\n      <td>James Charles</td>\n      <td>24</td>\n      <td>2020-08-12T00:00:00Z</td>\n      <td>james|james charles|makeup artist|covergirl|co...</td>\n      <td>3662673</td>\n      <td>394675</td>\n      <td>5757</td>\n      <td>27346</td>\n      <td>https://i.ytimg.com/vi/p7HGUZWq_8s/default.jpg</td>\n      <td>False</td>\n      <td>False</td>\n      <td>HI SISTERS! Today’s video is a collaboration w...</td>\n    </tr>\n    <tr>\n      <th>24</th>\n      <td>AMXT1ok5UBg</td>\n      <td>THIS IS THE END.</td>\n      <td>2020-08-11T23:00:02Z</td>\n      <td>UCWwWOFsW68TqXE-HZLC3WIA</td>\n      <td>The ACE Family</td>\n      <td>22</td>\n      <td>2020-08-12T00:00:00Z</td>\n      <td>the ace family this is the end|ace family this...</td>\n      <td>2630410</td>\n      <td>185419</td>\n      <td>4744</td>\n      <td>15908</td>\n      <td>https://i.ytimg.com/vi/AMXT1ok5UBg/default.jpg</td>\n      <td>False</td>\n      <td>False</td>\n      <td>THIS IS THE END.Shop on The RealReal and get $...</td>\n    </tr>\n  </tbody>\n</table>\n</div>"
     },
     "execution_count": 62,
     "metadata": {},
     "output_type": "execute_result"
    }
   ],
   "source": [
    "import pandas as pd\n",
    "\n",
    "data = pd.read_csv('../data/US_youtube_trending_data.csv', header=0)\n",
    "\n",
    "print(f\"Number of rows and columns: {data.shape}\")\n",
    "data.head(25)"
   ]
  },
  {
   "cell_type": "markdown",
   "source": [
    "## Data Treatment"
   ],
   "metadata": {
    "collapsed": false,
    "pycharm": {
     "name": "#%% md\n"
    }
   }
  },
  {
   "cell_type": "markdown",
   "source": [
    "### Check duplicates"
   ],
   "metadata": {
    "collapsed": false,
    "pycharm": {
     "name": "#%% md\n"
    }
   }
  },
  {
   "cell_type": "code",
   "execution_count": 63,
   "metadata": {
    "pycharm": {
     "name": "#%%\n"
    }
   },
   "outputs": [
    {
     "name": "stdout",
     "output_type": "stream",
     "text": [
      "Number of duplicated values: 0\n"
     ]
    }
   ],
   "source": [
    "# TODO: print duplicates\n",
    "duplicated = data.duplicated()\n",
    "num_duplicated = 0\n",
    "\n",
    "for isDuplicated in duplicated:\n",
    "    num_duplicated += 1 if num_duplicated else 0\n",
    "\n",
    "print(f\"Number of duplicated values: {num_duplicated}\")"
   ]
  },
  {
   "cell_type": "code",
   "execution_count": 64,
   "outputs": [],
   "source": [
    "#TODO: fix duplicates"
   ],
   "metadata": {
    "collapsed": false,
    "pycharm": {
     "name": "#%%\n"
    }
   }
  },
  {
   "cell_type": "markdown",
   "source": [
    "### Check NAN values"
   ],
   "metadata": {
    "collapsed": false
   }
  },
  {
   "cell_type": "code",
   "execution_count": 65,
   "metadata": {
    "pycharm": {
     "name": "#%%\n"
    }
   },
   "outputs": [],
   "source": [
    "# TODO: print NAN values"
   ]
  },
  {
   "cell_type": "code",
   "execution_count": 66,
   "metadata": {
    "pycharm": {
     "name": "#%%\n"
    }
   },
   "outputs": [],
   "source": [
    "# TODO: fix NAN"
   ]
  },
  {
   "cell_type": "code",
   "execution_count": 67,
   "outputs": [],
   "source": [
    "import numpy as np"
   ],
   "metadata": {
    "collapsed": false,
    "pycharm": {
     "name": "#%%\n"
    }
   }
  },
  {
   "cell_type": "markdown",
   "metadata": {
    "pycharm": {
     "name": "#%% md\n"
    }
   },
   "source": [
    "## Select target(y) and atribute (x)"
   ]
  },
  {
   "cell_type": "code",
   "execution_count": 68,
   "metadata": {
    "pycharm": {
     "name": "#%%\n"
    }
   },
   "outputs": [],
   "source": [
    "numpy_data = data.to_numpy()"
   ]
  },
  {
   "cell_type": "code",
   "execution_count": 69,
   "metadata": {
    "pycharm": {
     "name": "#%%\n"
    }
   },
   "outputs": [
    {
     "data": {
      "text/plain": "0     22\n1     20\n2     24\n3     10\n4     26\n5     24\n6     26\n7     27\n8     24\n9     10\n10    22\n11    22\n12    20\n13    10\n14    23\n15    22\n16    24\n17    22\n18    26\n19    10\n20    28\n21     1\n22    24\n23    24\n24    22\nName: categoryId, dtype: int64"
     },
     "execution_count": 69,
     "metadata": {},
     "output_type": "execute_result"
    }
   ],
   "source": [
    "x = data['categoryId']\n",
    "\n",
    "x.head(25)"
   ]
  },
  {
   "cell_type": "code",
   "execution_count": 70,
   "metadata": {
    "pycharm": {
     "name": "#%%\n"
    }
   },
   "outputs": [
    {
     "data": {
      "text/plain": "0      1514614\n1      2381688\n2      2038853\n3       496771\n4      1123889\n5       949491\n6       470446\n7      1050143\n8      1402687\n9       741028\n10      940036\n11      591837\n12      320872\n13      413372\n14      921261\n15      105955\n16     1007540\n17      277338\n18     1648441\n19     5999732\n20    14684474\n21      833369\n22     3061467\n23     3662673\n24     2630410\nName: view_count, dtype: int64"
     },
     "execution_count": 70,
     "metadata": {},
     "output_type": "execute_result"
    }
   ],
   "source": [
    "y = data['view_count']\n",
    "\n",
    "y.head(25)"
   ]
  },
  {
   "cell_type": "markdown",
   "metadata": {
    "pycharm": {
     "name": "#%% md\n"
    }
   },
   "source": [
    "## Mean"
   ]
  },
  {
   "cell_type": "code",
   "execution_count": 71,
   "metadata": {
    "pycharm": {
     "name": "#%%\n"
    }
   },
   "outputs": [
    {
     "name": "stdout",
     "output_type": "stream",
     "text": [
      "Mean(x): 18.622594857875853\n"
     ]
    }
   ],
   "source": [
    "mean_x = np.mean(x)\n",
    "print(f\"Mean(x): {mean_x}\")"
   ]
  },
  {
   "cell_type": "code",
   "execution_count": 72,
   "outputs": [
    {
     "name": "stdout",
     "output_type": "stream",
     "text": [
      "Mean(y): 2706730.433659906\n"
     ]
    }
   ],
   "source": [
    "mean_y = np.mean(y)\n",
    "print(f\"Mean(y): {mean_y}\")"
   ],
   "metadata": {
    "collapsed": false,
    "pycharm": {
     "name": "#%%\n"
    }
   }
  },
  {
   "cell_type": "markdown",
   "source": [
    "## Variance"
   ],
   "metadata": {
    "collapsed": false,
    "pycharm": {
     "name": "#%% md\n"
    }
   }
  },
  {
   "cell_type": "code",
   "execution_count": 73,
   "outputs": [
    {
     "name": "stdout",
     "output_type": "stream",
     "text": [
      "Var(x): 49.69740845512702\n"
     ]
    }
   ],
   "source": [
    "var_x = np.var(x)\n",
    "print(f\"Var(x): {var_x}\")"
   ],
   "metadata": {
    "collapsed": false,
    "pycharm": {
     "name": "#%%\n"
    }
   }
  },
  {
   "cell_type": "code",
   "execution_count": 74,
   "outputs": [
    {
     "name": "stdout",
     "output_type": "stream",
     "text": [
      "Var(y): 37743547310036.03\n"
     ]
    }
   ],
   "source": [
    "var_y = np.var(y)\n",
    "print(f\"Var(y): {var_y}\")"
   ],
   "metadata": {
    "collapsed": false,
    "pycharm": {
     "name": "#%%\n"
    }
   }
  },
  {
   "cell_type": "markdown",
   "source": [
    "## Standard Deviation"
   ],
   "metadata": {
    "collapsed": false,
    "pycharm": {
     "name": "#%% md\n"
    }
   }
  },
  {
   "cell_type": "code",
   "execution_count": 75,
   "outputs": [
    {
     "name": "stdout",
     "output_type": "stream",
     "text": [
      "STD(x): 18.622594857875853\n"
     ]
    }
   ],
   "source": [
    "std_x = np.std(x)\n",
    "print(f\"STD(x): {mean_x}\")\n"
   ],
   "metadata": {
    "collapsed": false,
    "pycharm": {
     "name": "#%%\n"
    }
   }
  },
  {
   "cell_type": "code",
   "execution_count": 76,
   "outputs": [
    {
     "name": "stdout",
     "output_type": "stream",
     "text": [
      "STD(y): 6143577.72881861\n"
     ]
    }
   ],
   "source": [
    "std_y = np.std(y)\n",
    "print(f\"STD(y): {std_y}\")\n"
   ],
   "metadata": {
    "collapsed": false,
    "pycharm": {
     "name": "#%%\n"
    }
   }
  },
  {
   "cell_type": "markdown",
   "source": [
    "## Median"
   ],
   "metadata": {
    "collapsed": false,
    "pycharm": {
     "name": "#%% md\n"
    }
   }
  },
  {
   "cell_type": "code",
   "execution_count": 77,
   "outputs": [
    {
     "name": "stdout",
     "output_type": "stream",
     "text": [
      "Median(x): 20.0\n"
     ]
    }
   ],
   "source": [
    "median_x = np.median(x)\n",
    "print(f\"Median(x): {median_x}\")\n"
   ],
   "metadata": {
    "collapsed": false,
    "pycharm": {
     "name": "#%%\n"
    }
   }
  },
  {
   "cell_type": "code",
   "execution_count": 78,
   "outputs": [
    {
     "name": "stdout",
     "output_type": "stream",
     "text": [
      "Median(y): 1129434.0\n"
     ]
    }
   ],
   "source": [
    "median_y = np.median(y)\n",
    "print(f\"Median(y): {median_y}\")"
   ],
   "metadata": {
    "collapsed": false,
    "pycharm": {
     "name": "#%%\n"
    }
   }
  },
  {
   "cell_type": "markdown",
   "source": [
    "## Histogram"
   ],
   "metadata": {
    "collapsed": false,
    "pycharm": {
     "name": "#%% md\n"
    }
   }
  },
  {
   "cell_type": "code",
   "execution_count": 79,
   "outputs": [],
   "source": [
    "import matplotlib.pyplot as plt\n",
    "from scipy import stats"
   ],
   "metadata": {
    "collapsed": false,
    "pycharm": {
     "name": "#%%\n"
    }
   }
  },
  {
   "cell_type": "code",
   "execution_count": 80,
   "outputs": [
    {
     "data": {
      "text/plain": "<Figure size 432x288 with 1 Axes>",
      "image/png": "[encoded data removed]"
     },
     "metadata": {
      "needs_background": "light"
     },
     "output_type": "display_data"
    }
   ],
   "source": [
    "# (X histogram)\n",
    "\n",
    "plt.hist(x, bins = 'auto')\n",
    "plt.title('Data')\n",
    "plt.ylabel('Frequency')\n",
    "plt.xlabel('Values')\n",
    "plt.show()"
   ],
   "metadata": {
    "collapsed": false,
    "pycharm": {
     "name": "#%%\n"
    }
   }
  },
  {
   "cell_type": "code",
   "execution_count": 81,
   "outputs": [
    {
     "data": {
      "text/plain": "<Figure size 432x288 with 1 Axes>",
      "image/png": "[encoded data removed]"
     },
     "metadata": {
      "needs_background": "light"
     },
     "output_type": "display_data"
    }
   ],
   "source": [
    "# (Y histogram)\n",
    "\n",
    "plt.hist(y, bins = 'auto')\n",
    "plt.title('Data')\n",
    "plt.ylabel('Frequency')\n",
    "plt.xlabel('Values')\n",
    "plt.show()"
   ],
   "metadata": {
    "collapsed": false,
    "pycharm": {
     "name": "#%%\n"
    }
   }
  },
  {
   "cell_type": "markdown",
   "source": [
    "## Correlação dos coeficientes X e Y"
   ],
   "metadata": {
    "collapsed": false,
    "pycharm": {
     "name": "#%% md\n"
    }
   }
  },
  {
   "cell_type": "code",
   "execution_count": 82,
   "outputs": [
    {
     "data": {
      "text/plain": "array([[ 1.        , -0.08332816],\n       [-0.08332816,  1.        ]])"
     },
     "execution_count": 82,
     "metadata": {},
     "output_type": "execute_result"
    }
   ],
   "source": [
    "# (Correlation Coefficients XY)\n",
    "\n",
    "np.corrcoef(x, y)"
   ],
   "metadata": {
    "collapsed": false,
    "pycharm": {
     "name": "#%%\n"
    }
   }
  },
  {
   "cell_type": "code",
   "execution_count": 82,
   "outputs": [],
   "source": [],
   "metadata": {
    "collapsed": false,
    "pycharm": {
     "name": "#%%\n"
    }
   }
  }
 ],
 "metadata": {
  "kernelspec": {
   "display_name": "Python 3",
   "language": "python",
   "name": "python3"
  },
  "language_info": {
   "codemirror_mode": {
    "name": "ipython",
    "version": 3
   },
   "file_extension": ".py",
   "mimetype": "text/x-python",
   "name": "python",
   "nbconvert_exporter": "python",
   "pygments_lexer": "ipython3",
   "version": "3.8.5"
  }
 },
 "nbformat": 4,
 "nbformat_minor": 1
}