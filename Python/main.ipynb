{
 "cells": [
  {
   "cell_type": "markdown",
   "metadata": {
    "collapsed": true,
    "pycharm": {
     "name": "#%% md\n"
    }
   },
   "source": [
    "# Probability and statistics in Python"
   ]
  },
  {
   "cell_type": "markdown",
   "metadata": {
    "heading_collapsed": true
   },
   "source": [
    "### Import libs"
   ]
  },
  {
   "cell_type": "code",
   "execution_count": 191,
   "metadata": {
    "hidden": true
   },
   "outputs": [],
   "source": [
    "from scipy.stats import shapiro\n",
    "import pandas as pd\n",
    "import numpy as np\n",
    "from sklearn.linear_model import LinearRegression\n",
    "import matplotlib.pyplot as plt\n",
    "from sklearn import datasets"
   ]
  },
  {
   "cell_type": "markdown",
   "metadata": {
    "heading_collapsed": true
   },
   "source": [
    "### Import Dataset"
   ]
  },
  {
   "cell_type": "code",
   "execution_count": 192,
   "metadata": {
    "hidden": true,
    "pycharm": {
     "name": "#%%\n"
    }
   },
   "outputs": [
    {
     "name": "stdout",
     "output_type": "stream",
     "text": [
      "Number of rows and columns: (53791, 16)\n"
     ]
    },
    {
     "data": {
      "text/html": [
       "<div>\n",
       "<style scoped>\n",
       "    .dataframe tbody tr th:only-of-type {\n",
       "        vertical-align: middle;\n",
       "    }\n",
       "\n",
       "    .dataframe tbody tr th {\n",
       "        vertical-align: top;\n",
       "    }\n",
       "\n",
       "    .dataframe thead th {\n",
       "        text-align: right;\n",
       "    }\n",
       "</style>\n",
       "<table border=\"1\" class=\"dataframe\">\n",
       "  <thead>\n",
       "    <tr style=\"text-align: right;\">\n",
       "      <th></th>\n",
       "      <th>video_id</th>\n",
       "      <th>title</th>\n",
       "      <th>publishedAt</th>\n",
       "      <th>channelId</th>\n",
       "      <th>channelTitle</th>\n",
       "      <th>categoryId</th>\n",
       "      <th>trending_date</th>\n",
       "      <th>tags</th>\n",
       "      <th>view_count</th>\n",
       "      <th>likes</th>\n",
       "      <th>dislikes</th>\n",
       "      <th>comment_count</th>\n",
       "      <th>thumbnail_link</th>\n",
       "      <th>comments_disabled</th>\n",
       "      <th>ratings_disabled</th>\n",
       "      <th>description</th>\n",
       "    </tr>\n",
       "  </thead>\n",
       "  <tbody>\n",
       "    <tr>\n",
       "      <th>0</th>\n",
       "      <td>3C66w5Z0ixs</td>\n",
       "      <td>I ASKED HER TO BE MY GIRLFRIEND...</td>\n",
       "      <td>2020-08-11T19:20:14Z</td>\n",
       "      <td>UCvtRTOMP2TqYqu51xNrqAzg</td>\n",
       "      <td>Brawadis</td>\n",
       "      <td>22</td>\n",
       "      <td>2020-08-12T00:00:00Z</td>\n",
       "      <td>brawadis|prank|basketball|skits|ghost|funny vi...</td>\n",
       "      <td>1514614</td>\n",
       "      <td>156908</td>\n",
       "      <td>5855</td>\n",
       "      <td>35313</td>\n",
       "      <td>https://i.ytimg.com/vi/3C66w5Z0ixs/default.jpg</td>\n",
       "      <td>False</td>\n",
       "      <td>False</td>\n",
       "      <td>SUBSCRIBE to BRAWADIS ▶ http://bit.ly/Subscrib...</td>\n",
       "    </tr>\n",
       "    <tr>\n",
       "      <th>1</th>\n",
       "      <td>M9Pmf9AB4Mo</td>\n",
       "      <td>Apex Legends | Stories from the Outlands – “Th...</td>\n",
       "      <td>2020-08-11T17:00:10Z</td>\n",
       "      <td>UC0ZV6M2THA81QT9hrVWJG3A</td>\n",
       "      <td>Apex Legends</td>\n",
       "      <td>20</td>\n",
       "      <td>2020-08-12T00:00:00Z</td>\n",
       "      <td>Apex Legends|Apex Legends characters|new Apex ...</td>\n",
       "      <td>2381688</td>\n",
       "      <td>146739</td>\n",
       "      <td>2794</td>\n",
       "      <td>16549</td>\n",
       "      <td>https://i.ytimg.com/vi/M9Pmf9AB4Mo/default.jpg</td>\n",
       "      <td>False</td>\n",
       "      <td>False</td>\n",
       "      <td>While running her own modding shop, Ramya Pare...</td>\n",
       "    </tr>\n",
       "    <tr>\n",
       "      <th>2</th>\n",
       "      <td>J78aPJ3VyNs</td>\n",
       "      <td>I left youtube for a month and THIS is what ha...</td>\n",
       "      <td>2020-08-11T16:34:06Z</td>\n",
       "      <td>UCYzPXprvl5Y-Sf0g4vX-m6g</td>\n",
       "      <td>jacksepticeye</td>\n",
       "      <td>24</td>\n",
       "      <td>2020-08-12T00:00:00Z</td>\n",
       "      <td>jacksepticeye|funny|funny meme|memes|jacksepti...</td>\n",
       "      <td>2038853</td>\n",
       "      <td>353787</td>\n",
       "      <td>2628</td>\n",
       "      <td>40221</td>\n",
       "      <td>https://i.ytimg.com/vi/J78aPJ3VyNs/default.jpg</td>\n",
       "      <td>False</td>\n",
       "      <td>False</td>\n",
       "      <td>I left youtube for a month and this is what ha...</td>\n",
       "    </tr>\n",
       "    <tr>\n",
       "      <th>3</th>\n",
       "      <td>kXLn3HkpjaA</td>\n",
       "      <td>XXL 2020 Freshman Class Revealed - Official An...</td>\n",
       "      <td>2020-08-11T16:38:55Z</td>\n",
       "      <td>UCbg_UMjlHJg_19SZckaKajg</td>\n",
       "      <td>XXL</td>\n",
       "      <td>10</td>\n",
       "      <td>2020-08-12T00:00:00Z</td>\n",
       "      <td>xxl freshman|xxl freshmen|2020 xxl freshman|20...</td>\n",
       "      <td>496771</td>\n",
       "      <td>23251</td>\n",
       "      <td>1856</td>\n",
       "      <td>7647</td>\n",
       "      <td>https://i.ytimg.com/vi/kXLn3HkpjaA/default.jpg</td>\n",
       "      <td>False</td>\n",
       "      <td>False</td>\n",
       "      <td>Subscribe to XXL → http://bit.ly/subscribe-xxl...</td>\n",
       "    </tr>\n",
       "    <tr>\n",
       "      <th>4</th>\n",
       "      <td>VIUo6yapDbc</td>\n",
       "      <td>Ultimate DIY Home Movie Theater for The LaBran...</td>\n",
       "      <td>2020-08-11T15:10:05Z</td>\n",
       "      <td>UCDVPcEbVLQgLZX0Rt6jo34A</td>\n",
       "      <td>Mr. Kate</td>\n",
       "      <td>26</td>\n",
       "      <td>2020-08-12T00:00:00Z</td>\n",
       "      <td>The LaBrant Family|DIY|Interior Design|Makeove...</td>\n",
       "      <td>1123889</td>\n",
       "      <td>45802</td>\n",
       "      <td>964</td>\n",
       "      <td>2196</td>\n",
       "      <td>https://i.ytimg.com/vi/VIUo6yapDbc/default.jpg</td>\n",
       "      <td>False</td>\n",
       "      <td>False</td>\n",
       "      <td>Transforming The LaBrant Family's empty white ...</td>\n",
       "    </tr>\n",
       "    <tr>\n",
       "      <th>5</th>\n",
       "      <td>w-aidBdvZo8</td>\n",
       "      <td>I Haven't Been Honest About My Injury.. Here's...</td>\n",
       "      <td>2020-08-11T20:00:04Z</td>\n",
       "      <td>UC5zJwsFtEs9WYe3A76p7xIA</td>\n",
       "      <td>Professor Live</td>\n",
       "      <td>24</td>\n",
       "      <td>2020-08-12T00:00:00Z</td>\n",
       "      <td>Professor injury|professor achilles|professor ...</td>\n",
       "      <td>949491</td>\n",
       "      <td>77487</td>\n",
       "      <td>746</td>\n",
       "      <td>7506</td>\n",
       "      <td>https://i.ytimg.com/vi/w-aidBdvZo8/default.jpg</td>\n",
       "      <td>False</td>\n",
       "      <td>False</td>\n",
       "      <td>Subscribe To My Channel - https://www.youtube....</td>\n",
       "    </tr>\n",
       "    <tr>\n",
       "      <th>6</th>\n",
       "      <td>uet14uf9NsE</td>\n",
       "      <td>OUR FIRST FAMILY INTRO!!</td>\n",
       "      <td>2020-08-12T00:17:41Z</td>\n",
       "      <td>UCDSJCBYqL7VQrlXfhr1RtwA</td>\n",
       "      <td>Les Do Makeup</td>\n",
       "      <td>26</td>\n",
       "      <td>2020-08-12T00:00:00Z</td>\n",
       "      <td>[None]</td>\n",
       "      <td>470446</td>\n",
       "      <td>47990</td>\n",
       "      <td>440</td>\n",
       "      <td>4558</td>\n",
       "      <td>https://i.ytimg.com/vi/uet14uf9NsE/default.jpg</td>\n",
       "      <td>False</td>\n",
       "      <td>False</td>\n",
       "      <td>Hi babygirls!  Thank you so much for watching ...</td>\n",
       "    </tr>\n",
       "    <tr>\n",
       "      <th>7</th>\n",
       "      <td>ua4QMFQATco</td>\n",
       "      <td>CGP Grey was WRONG</td>\n",
       "      <td>2020-08-11T17:15:11Z</td>\n",
       "      <td>UC2C_jShtL725hvbm1arSV9w</td>\n",
       "      <td>CGP Grey</td>\n",
       "      <td>27</td>\n",
       "      <td>2020-08-12T00:00:00Z</td>\n",
       "      <td>cgpgrey|education|hello internet</td>\n",
       "      <td>1050143</td>\n",
       "      <td>89190</td>\n",
       "      <td>854</td>\n",
       "      <td>6455</td>\n",
       "      <td>https://i.ytimg.com/vi/ua4QMFQATco/default.jpg</td>\n",
       "      <td>False</td>\n",
       "      <td>False</td>\n",
       "      <td>‣ What Was TEKOI: https://www.youtube.com/watc...</td>\n",
       "    </tr>\n",
       "    <tr>\n",
       "      <th>8</th>\n",
       "      <td>SnsPZj91R7E</td>\n",
       "      <td>SURPRISING MY DAD WITH HIS DREAM TRUCK!! | Lou...</td>\n",
       "      <td>2020-08-10T22:26:59Z</td>\n",
       "      <td>UCZDdF_p-L88NWVpzF0vjvMQ</td>\n",
       "      <td>Louie's Life</td>\n",
       "      <td>24</td>\n",
       "      <td>2020-08-12T00:00:00Z</td>\n",
       "      <td>surprising|dad|father|papa|with|dream|car|truc...</td>\n",
       "      <td>1402687</td>\n",
       "      <td>95694</td>\n",
       "      <td>2158</td>\n",
       "      <td>6613</td>\n",
       "      <td>https://i.ytimg.com/vi/SnsPZj91R7E/default.jpg</td>\n",
       "      <td>False</td>\n",
       "      <td>False</td>\n",
       "      <td>Since I was little, i've had these goals for m...</td>\n",
       "    </tr>\n",
       "    <tr>\n",
       "      <th>9</th>\n",
       "      <td>SsWHMAhshPQ</td>\n",
       "      <td>Ovi x Natanael Cano x Aleman x Big Soto - Veng...</td>\n",
       "      <td>2020-08-11T23:00:10Z</td>\n",
       "      <td>UC648rgJOboZlgcDbW00vTSA</td>\n",
       "      <td>Rancho Humilde</td>\n",
       "      <td>10</td>\n",
       "      <td>2020-08-12T00:00:00Z</td>\n",
       "      <td>Vengo De Nada|Aleman|Ovi|Big Soto|Trap|Ovi Nat...</td>\n",
       "      <td>741028</td>\n",
       "      <td>113983</td>\n",
       "      <td>4373</td>\n",
       "      <td>5618</td>\n",
       "      <td>https://i.ytimg.com/vi/SsWHMAhshPQ/default.jpg</td>\n",
       "      <td>False</td>\n",
       "      <td>False</td>\n",
       "      <td>Vengo De Nada - Ovi x Natanael Cano x Aleman x...</td>\n",
       "    </tr>\n",
       "    <tr>\n",
       "      <th>10</th>\n",
       "      <td>49Z6Mv4_WCA</td>\n",
       "      <td>i don't know what im doing anymore</td>\n",
       "      <td>2020-08-11T20:24:34Z</td>\n",
       "      <td>UCtinbF-Q-fVthA0qrFQTgXQ</td>\n",
       "      <td>CaseyNeistat</td>\n",
       "      <td>22</td>\n",
       "      <td>2020-08-12T00:00:00Z</td>\n",
       "      <td>[None]</td>\n",
       "      <td>940036</td>\n",
       "      <td>87111</td>\n",
       "      <td>1860</td>\n",
       "      <td>7052</td>\n",
       "      <td>https://i.ytimg.com/vi/49Z6Mv4_WCA/default.jpg</td>\n",
       "      <td>False</td>\n",
       "      <td>False</td>\n",
       "      <td>ssend love to my sponsor; for a super Limited ...</td>\n",
       "    </tr>\n",
       "    <tr>\n",
       "      <th>11</th>\n",
       "      <td>nt3VVyv5pxQ</td>\n",
       "      <td>Try Not To Laugh Challenge #51</td>\n",
       "      <td>2020-08-11T17:00:31Z</td>\n",
       "      <td>UCYJPby9DRCteedh5tfxVbrw</td>\n",
       "      <td>Smosh Pit</td>\n",
       "      <td>22</td>\n",
       "      <td>2020-08-12T00:00:00Z</td>\n",
       "      <td>smosh|smosh pit|smosh games|funny|comedy</td>\n",
       "      <td>591837</td>\n",
       "      <td>44168</td>\n",
       "      <td>409</td>\n",
       "      <td>2652</td>\n",
       "      <td>https://i.ytimg.com/vi/nt3VVyv5pxQ/default.jpg</td>\n",
       "      <td>False</td>\n",
       "      <td>False</td>\n",
       "      <td>You know what time it is— time to try not to l...</td>\n",
       "    </tr>\n",
       "    <tr>\n",
       "      <th>12</th>\n",
       "      <td>I6hswz4rIrU</td>\n",
       "      <td>Rainbow Six Siege: Operation Shadow Legacy Rev...</td>\n",
       "      <td>2020-08-11T17:13:53Z</td>\n",
       "      <td>UCBMvc6jvuTxH6TNo9ThpYjg</td>\n",
       "      <td>Ubisoft North America</td>\n",
       "      <td>20</td>\n",
       "      <td>2020-08-12T00:00:00Z</td>\n",
       "      <td>R6|R6S|Siege|New Siege|New Operators|New Ops|G...</td>\n",
       "      <td>320872</td>\n",
       "      <td>14288</td>\n",
       "      <td>774</td>\n",
       "      <td>2085</td>\n",
       "      <td>https://i.ytimg.com/vi/I6hswz4rIrU/default.jpg</td>\n",
       "      <td>False</td>\n",
       "      <td>False</td>\n",
       "      <td>“Prepare. Execute. Vanish”Sam Fisher joins Tea...</td>\n",
       "    </tr>\n",
       "    <tr>\n",
       "      <th>13</th>\n",
       "      <td>W7VK4DUHvKU</td>\n",
       "      <td>Lil Yachty &amp; Future - Pardon Me (Official Video)</td>\n",
       "      <td>2020-08-11T19:00:10Z</td>\n",
       "      <td>UC1X3TRsCt36QPjF1p5f3HTg</td>\n",
       "      <td>LilYachtyVEVO</td>\n",
       "      <td>10</td>\n",
       "      <td>2020-08-12T00:00:00Z</td>\n",
       "      <td>Lil Yachty|Lil Boat 3|Future Lil Yachty|Pardon...</td>\n",
       "      <td>413372</td>\n",
       "      <td>26440</td>\n",
       "      <td>293</td>\n",
       "      <td>1495</td>\n",
       "      <td>https://i.ytimg.com/vi/W7VK4DUHvKU/default.jpg</td>\n",
       "      <td>False</td>\n",
       "      <td>False</td>\n",
       "      <td>Watch the official video for Lil Yachty &amp; Futu...</td>\n",
       "    </tr>\n",
       "    <tr>\n",
       "      <th>14</th>\n",
       "      <td>W9Aen8hG20Y</td>\n",
       "      <td>When Our Generation Gets Old and Hears a Throw...</td>\n",
       "      <td>2020-08-10T22:33:48Z</td>\n",
       "      <td>UCR9NuNwCUIhMOLUQnLN7_WA</td>\n",
       "      <td>Kyle Exum</td>\n",
       "      <td>23</td>\n",
       "      <td>2020-08-12T00:00:00Z</td>\n",
       "      <td>When Our Generation Gets Old and Hears a Throw...</td>\n",
       "      <td>921261</td>\n",
       "      <td>124183</td>\n",
       "      <td>1678</td>\n",
       "      <td>16460</td>\n",
       "      <td>https://i.ytimg.com/vi/W9Aen8hG20Y/default.jpg</td>\n",
       "      <td>False</td>\n",
       "      <td>False</td>\n",
       "      <td>500,000 Likes and I’ll drop a Part 6!Thanks fo...</td>\n",
       "    </tr>\n",
       "    <tr>\n",
       "      <th>15</th>\n",
       "      <td>BNeDH6UTmXw</td>\n",
       "      <td>Ten Minutes with Tyler Cameron | Q&amp;A</td>\n",
       "      <td>2020-08-11T22:00:05Z</td>\n",
       "      <td>UCMw7m-ScQ6jV1FQzQnn1y8Q</td>\n",
       "      <td>Tyler Cameron</td>\n",
       "      <td>22</td>\n",
       "      <td>2020-08-12T00:00:00Z</td>\n",
       "      <td>the bachelor|the bachelorette|Tyler c|Tyler Ca...</td>\n",
       "      <td>105955</td>\n",
       "      <td>4511</td>\n",
       "      <td>69</td>\n",
       "      <td>673</td>\n",
       "      <td>https://i.ytimg.com/vi/BNeDH6UTmXw/default.jpg</td>\n",
       "      <td>False</td>\n",
       "      <td>False</td>\n",
       "      <td>Come hang out me with me for 10 minutes where ...</td>\n",
       "    </tr>\n",
       "    <tr>\n",
       "      <th>16</th>\n",
       "      <td>6TIsR_7nrNc</td>\n",
       "      <td>Kylie Jenner Reacts To 'WAP' Music Video Backlash</td>\n",
       "      <td>2020-08-10T18:41:19Z</td>\n",
       "      <td>UC2rJLq19N0dGrxfib80M_fg</td>\n",
       "      <td>HollywoodLife</td>\n",
       "      <td>24</td>\n",
       "      <td>2020-08-12T00:00:00Z</td>\n",
       "      <td>kylie jenner|kendall jenner|cardi b|wap|reacts...</td>\n",
       "      <td>1007540</td>\n",
       "      <td>10102</td>\n",
       "      <td>7932</td>\n",
       "      <td>2763</td>\n",
       "      <td>https://i.ytimg.com/vi/6TIsR_7nrNc/default.jpg</td>\n",
       "      <td>False</td>\n",
       "      <td>False</td>\n",
       "      <td>Kylie Jenner dissed over cameo in Cardi B and ...</td>\n",
       "    </tr>\n",
       "    <tr>\n",
       "      <th>17</th>\n",
       "      <td>gPdUslndvVI</td>\n",
       "      <td>Our Farm Got Destroyed.</td>\n",
       "      <td>2020-08-11T23:00:06Z</td>\n",
       "      <td>UCuxlXCfVyV-i5YLL30jkomw</td>\n",
       "      <td>Cole The Cornstar</td>\n",
       "      <td>22</td>\n",
       "      <td>2020-08-12T00:00:00Z</td>\n",
       "      <td>farming|family farm|agriculture|agriculture jo...</td>\n",
       "      <td>277338</td>\n",
       "      <td>37533</td>\n",
       "      <td>197</td>\n",
       "      <td>3666</td>\n",
       "      <td>https://i.ytimg.com/vi/gPdUslndvVI/default.jpg</td>\n",
       "      <td>False</td>\n",
       "      <td>False</td>\n",
       "      <td>Wind storm, rain, and lots of destruction; wel...</td>\n",
       "    </tr>\n",
       "    <tr>\n",
       "      <th>18</th>\n",
       "      <td>GTp-0S82guE</td>\n",
       "      <td>Time to Talk..</td>\n",
       "      <td>2020-08-11T12:04:40Z</td>\n",
       "      <td>UCCgLoMYIyP0U56dEhEL1wXQ</td>\n",
       "      <td>Chloe Ting</td>\n",
       "      <td>26</td>\n",
       "      <td>2020-08-12T00:00:00Z</td>\n",
       "      <td>chloe ting|chloeting|defamation|cyber bullying...</td>\n",
       "      <td>1648441</td>\n",
       "      <td>130147</td>\n",
       "      <td>1425</td>\n",
       "      <td>15773</td>\n",
       "      <td>https://i.ytimg.com/vi/GTp-0S82guE/default.jpg</td>\n",
       "      <td>False</td>\n",
       "      <td>False</td>\n",
       "      <td>I talked about some claims about me that was h...</td>\n",
       "    </tr>\n",
       "    <tr>\n",
       "      <th>19</th>\n",
       "      <td>jbGRowa5tIk</td>\n",
       "      <td>ITZY “Not Shy” M/V TEASER</td>\n",
       "      <td>2020-08-11T15:00:13Z</td>\n",
       "      <td>UCaO6TYtlC8U5ttz62hTrZgg</td>\n",
       "      <td>JYP Entertainment</td>\n",
       "      <td>10</td>\n",
       "      <td>2020-08-12T00:00:00Z</td>\n",
       "      <td>JYP Entertainment|JYP|ITZY|있지|ITZY Video|ITZY ...</td>\n",
       "      <td>5999732</td>\n",
       "      <td>714287</td>\n",
       "      <td>15174</td>\n",
       "      <td>31039</td>\n",
       "      <td>https://i.ytimg.com/vi/jbGRowa5tIk/default.jpg</td>\n",
       "      <td>False</td>\n",
       "      <td>False</td>\n",
       "      <td>ITZY Not Shy M/V[ITZY Official] https://www.yo...</td>\n",
       "    </tr>\n",
       "    <tr>\n",
       "      <th>20</th>\n",
       "      <td>vePc5V4h_kg</td>\n",
       "      <td>Shark Attack Test- Human Blood vs. Fish Blood</td>\n",
       "      <td>2020-08-09T16:00:11Z</td>\n",
       "      <td>UCY1kMZp36IQSyNx_9h4mpCg</td>\n",
       "      <td>Mark Rober</td>\n",
       "      <td>28</td>\n",
       "      <td>2020-08-12T00:00:00Z</td>\n",
       "      <td>sharks|sharkweek|jaws|shark attack|blood in wa...</td>\n",
       "      <td>14684474</td>\n",
       "      <td>544038</td>\n",
       "      <td>15818</td>\n",
       "      <td>33507</td>\n",
       "      <td>https://i.ytimg.com/vi/vePc5V4h_kg/default.jpg</td>\n",
       "      <td>False</td>\n",
       "      <td>False</td>\n",
       "      <td>I personally got in the water and tested if Sh...</td>\n",
       "    </tr>\n",
       "    <tr>\n",
       "      <th>21</th>\n",
       "      <td>5WjcDji3xYc</td>\n",
       "      <td>Honest Trailers | Avatar: The Last Airbender</td>\n",
       "      <td>2020-08-11T17:03:59Z</td>\n",
       "      <td>UCOpcACMWblDls9Z6GERVi1A</td>\n",
       "      <td>Screen Junkies</td>\n",
       "      <td>1</td>\n",
       "      <td>2020-08-12T00:00:00Z</td>\n",
       "      <td>screenjunkies|screen junkies|honest trailers|h...</td>\n",
       "      <td>833369</td>\n",
       "      <td>50181</td>\n",
       "      <td>1120</td>\n",
       "      <td>4634</td>\n",
       "      <td>https://i.ytimg.com/vi/5WjcDji3xYc/default.jpg</td>\n",
       "      <td>False</td>\n",
       "      <td>False</td>\n",
       "      <td>►►Subscribe to ScreenJunkies!► https://fandom....</td>\n",
       "    </tr>\n",
       "    <tr>\n",
       "      <th>22</th>\n",
       "      <td>FopIxceEr8g</td>\n",
       "      <td>EXTREME Game of Hide and Seek in my NEW HOUSE!!</td>\n",
       "      <td>2020-08-10T17:09:53Z</td>\n",
       "      <td>UCilwZiBBfI9X6yiZRzWty8Q</td>\n",
       "      <td>FaZe Rug</td>\n",
       "      <td>24</td>\n",
       "      <td>2020-08-12T00:00:00Z</td>\n",
       "      <td>faze rug|rug|rugfaze|fazerug|hide n seek|hide ...</td>\n",
       "      <td>3061467</td>\n",
       "      <td>206840</td>\n",
       "      <td>2646</td>\n",
       "      <td>14934</td>\n",
       "      <td>https://i.ytimg.com/vi/FopIxceEr8g/default.jpg</td>\n",
       "      <td>False</td>\n",
       "      <td>False</td>\n",
       "      <td>THIS WAS SO MUCH FUNWe played hide n seek for ...</td>\n",
       "    </tr>\n",
       "    <tr>\n",
       "      <th>23</th>\n",
       "      <td>p7HGUZWq_8s</td>\n",
       "      <td>Doing Doja Cat’s Makeup!!</td>\n",
       "      <td>2020-08-11T19:00:09Z</td>\n",
       "      <td>UCucot-Zp428OwkyRm2I7v2Q</td>\n",
       "      <td>James Charles</td>\n",
       "      <td>24</td>\n",
       "      <td>2020-08-12T00:00:00Z</td>\n",
       "      <td>james|james charles|makeup artist|covergirl|co...</td>\n",
       "      <td>3662673</td>\n",
       "      <td>394675</td>\n",
       "      <td>5757</td>\n",
       "      <td>27346</td>\n",
       "      <td>https://i.ytimg.com/vi/p7HGUZWq_8s/default.jpg</td>\n",
       "      <td>False</td>\n",
       "      <td>False</td>\n",
       "      <td>HI SISTERS! Today’s video is a collaboration w...</td>\n",
       "    </tr>\n",
       "    <tr>\n",
       "      <th>24</th>\n",
       "      <td>AMXT1ok5UBg</td>\n",
       "      <td>THIS IS THE END.</td>\n",
       "      <td>2020-08-11T23:00:02Z</td>\n",
       "      <td>UCWwWOFsW68TqXE-HZLC3WIA</td>\n",
       "      <td>The ACE Family</td>\n",
       "      <td>22</td>\n",
       "      <td>2020-08-12T00:00:00Z</td>\n",
       "      <td>the ace family this is the end|ace family this...</td>\n",
       "      <td>2630410</td>\n",
       "      <td>185419</td>\n",
       "      <td>4744</td>\n",
       "      <td>15908</td>\n",
       "      <td>https://i.ytimg.com/vi/AMXT1ok5UBg/default.jpg</td>\n",
       "      <td>False</td>\n",
       "      <td>False</td>\n",
       "      <td>THIS IS THE END.Shop on The RealReal and get $...</td>\n",
       "    </tr>\n",
       "  </tbody>\n",
       "</table>\n",
       "</div>"
      ],
      "text/plain": [
       "       video_id                                              title  \\\n",
       "0   3C66w5Z0ixs                 I ASKED HER TO BE MY GIRLFRIEND...   \n",
       "1   M9Pmf9AB4Mo  Apex Legends | Stories from the Outlands – “Th...   \n",
       "2   J78aPJ3VyNs  I left youtube for a month and THIS is what ha...   \n",
       "3   kXLn3HkpjaA  XXL 2020 Freshman Class Revealed - Official An...   \n",
       "4   VIUo6yapDbc  Ultimate DIY Home Movie Theater for The LaBran...   \n",
       "5   w-aidBdvZo8  I Haven't Been Honest About My Injury.. Here's...   \n",
       "6   uet14uf9NsE                           OUR FIRST FAMILY INTRO!!   \n",
       "7   ua4QMFQATco                                 CGP Grey was WRONG   \n",
       "8   SnsPZj91R7E  SURPRISING MY DAD WITH HIS DREAM TRUCK!! | Lou...   \n",
       "9   SsWHMAhshPQ  Ovi x Natanael Cano x Aleman x Big Soto - Veng...   \n",
       "10  49Z6Mv4_WCA                 i don't know what im doing anymore   \n",
       "11  nt3VVyv5pxQ                     Try Not To Laugh Challenge #51   \n",
       "12  I6hswz4rIrU  Rainbow Six Siege: Operation Shadow Legacy Rev...   \n",
       "13  W7VK4DUHvKU   Lil Yachty & Future - Pardon Me (Official Video)   \n",
       "14  W9Aen8hG20Y  When Our Generation Gets Old and Hears a Throw...   \n",
       "15  BNeDH6UTmXw               Ten Minutes with Tyler Cameron | Q&A   \n",
       "16  6TIsR_7nrNc  Kylie Jenner Reacts To 'WAP' Music Video Backlash   \n",
       "17  gPdUslndvVI                            Our Farm Got Destroyed.   \n",
       "18  GTp-0S82guE                                     Time to Talk..   \n",
       "19  jbGRowa5tIk                          ITZY “Not Shy” M/V TEASER   \n",
       "20  vePc5V4h_kg      Shark Attack Test- Human Blood vs. Fish Blood   \n",
       "21  5WjcDji3xYc       Honest Trailers | Avatar: The Last Airbender   \n",
       "22  FopIxceEr8g    EXTREME Game of Hide and Seek in my NEW HOUSE!!   \n",
       "23  p7HGUZWq_8s                          Doing Doja Cat’s Makeup!!   \n",
       "24  AMXT1ok5UBg                                   THIS IS THE END.   \n",
       "\n",
       "             publishedAt                 channelId           channelTitle  \\\n",
       "0   2020-08-11T19:20:14Z  UCvtRTOMP2TqYqu51xNrqAzg               Brawadis   \n",
       "1   2020-08-11T17:00:10Z  UC0ZV6M2THA81QT9hrVWJG3A           Apex Legends   \n",
       "2   2020-08-11T16:34:06Z  UCYzPXprvl5Y-Sf0g4vX-m6g          jacksepticeye   \n",
       "3   2020-08-11T16:38:55Z  UCbg_UMjlHJg_19SZckaKajg                    XXL   \n",
       "4   2020-08-11T15:10:05Z  UCDVPcEbVLQgLZX0Rt6jo34A               Mr. Kate   \n",
       "5   2020-08-11T20:00:04Z  UC5zJwsFtEs9WYe3A76p7xIA         Professor Live   \n",
       "6   2020-08-12T00:17:41Z  UCDSJCBYqL7VQrlXfhr1RtwA          Les Do Makeup   \n",
       "7   2020-08-11T17:15:11Z  UC2C_jShtL725hvbm1arSV9w               CGP Grey   \n",
       "8   2020-08-10T22:26:59Z  UCZDdF_p-L88NWVpzF0vjvMQ           Louie's Life   \n",
       "9   2020-08-11T23:00:10Z  UC648rgJOboZlgcDbW00vTSA         Rancho Humilde   \n",
       "10  2020-08-11T20:24:34Z  UCtinbF-Q-fVthA0qrFQTgXQ           CaseyNeistat   \n",
       "11  2020-08-11T17:00:31Z  UCYJPby9DRCteedh5tfxVbrw              Smosh Pit   \n",
       "12  2020-08-11T17:13:53Z  UCBMvc6jvuTxH6TNo9ThpYjg  Ubisoft North America   \n",
       "13  2020-08-11T19:00:10Z  UC1X3TRsCt36QPjF1p5f3HTg          LilYachtyVEVO   \n",
       "14  2020-08-10T22:33:48Z  UCR9NuNwCUIhMOLUQnLN7_WA              Kyle Exum   \n",
       "15  2020-08-11T22:00:05Z  UCMw7m-ScQ6jV1FQzQnn1y8Q          Tyler Cameron   \n",
       "16  2020-08-10T18:41:19Z  UC2rJLq19N0dGrxfib80M_fg          HollywoodLife   \n",
       "17  2020-08-11T23:00:06Z  UCuxlXCfVyV-i5YLL30jkomw      Cole The Cornstar   \n",
       "18  2020-08-11T12:04:40Z  UCCgLoMYIyP0U56dEhEL1wXQ             Chloe Ting   \n",
       "19  2020-08-11T15:00:13Z  UCaO6TYtlC8U5ttz62hTrZgg      JYP Entertainment   \n",
       "20  2020-08-09T16:00:11Z  UCY1kMZp36IQSyNx_9h4mpCg             Mark Rober   \n",
       "21  2020-08-11T17:03:59Z  UCOpcACMWblDls9Z6GERVi1A         Screen Junkies   \n",
       "22  2020-08-10T17:09:53Z  UCilwZiBBfI9X6yiZRzWty8Q               FaZe Rug   \n",
       "23  2020-08-11T19:00:09Z  UCucot-Zp428OwkyRm2I7v2Q          James Charles   \n",
       "24  2020-08-11T23:00:02Z  UCWwWOFsW68TqXE-HZLC3WIA         The ACE Family   \n",
       "\n",
       "    categoryId         trending_date  \\\n",
       "0           22  2020-08-12T00:00:00Z   \n",
       "1           20  2020-08-12T00:00:00Z   \n",
       "2           24  2020-08-12T00:00:00Z   \n",
       "3           10  2020-08-12T00:00:00Z   \n",
       "4           26  2020-08-12T00:00:00Z   \n",
       "5           24  2020-08-12T00:00:00Z   \n",
       "6           26  2020-08-12T00:00:00Z   \n",
       "7           27  2020-08-12T00:00:00Z   \n",
       "8           24  2020-08-12T00:00:00Z   \n",
       "9           10  2020-08-12T00:00:00Z   \n",
       "10          22  2020-08-12T00:00:00Z   \n",
       "11          22  2020-08-12T00:00:00Z   \n",
       "12          20  2020-08-12T00:00:00Z   \n",
       "13          10  2020-08-12T00:00:00Z   \n",
       "14          23  2020-08-12T00:00:00Z   \n",
       "15          22  2020-08-12T00:00:00Z   \n",
       "16          24  2020-08-12T00:00:00Z   \n",
       "17          22  2020-08-12T00:00:00Z   \n",
       "18          26  2020-08-12T00:00:00Z   \n",
       "19          10  2020-08-12T00:00:00Z   \n",
       "20          28  2020-08-12T00:00:00Z   \n",
       "21           1  2020-08-12T00:00:00Z   \n",
       "22          24  2020-08-12T00:00:00Z   \n",
       "23          24  2020-08-12T00:00:00Z   \n",
       "24          22  2020-08-12T00:00:00Z   \n",
       "\n",
       "                                                 tags  view_count   likes  \\\n",
       "0   brawadis|prank|basketball|skits|ghost|funny vi...     1514614  156908   \n",
       "1   Apex Legends|Apex Legends characters|new Apex ...     2381688  146739   \n",
       "2   jacksepticeye|funny|funny meme|memes|jacksepti...     2038853  353787   \n",
       "3   xxl freshman|xxl freshmen|2020 xxl freshman|20...      496771   23251   \n",
       "4   The LaBrant Family|DIY|Interior Design|Makeove...     1123889   45802   \n",
       "5   Professor injury|professor achilles|professor ...      949491   77487   \n",
       "6                                              [None]      470446   47990   \n",
       "7                    cgpgrey|education|hello internet     1050143   89190   \n",
       "8   surprising|dad|father|papa|with|dream|car|truc...     1402687   95694   \n",
       "9   Vengo De Nada|Aleman|Ovi|Big Soto|Trap|Ovi Nat...      741028  113983   \n",
       "10                                             [None]      940036   87111   \n",
       "11           smosh|smosh pit|smosh games|funny|comedy      591837   44168   \n",
       "12  R6|R6S|Siege|New Siege|New Operators|New Ops|G...      320872   14288   \n",
       "13  Lil Yachty|Lil Boat 3|Future Lil Yachty|Pardon...      413372   26440   \n",
       "14  When Our Generation Gets Old and Hears a Throw...      921261  124183   \n",
       "15  the bachelor|the bachelorette|Tyler c|Tyler Ca...      105955    4511   \n",
       "16  kylie jenner|kendall jenner|cardi b|wap|reacts...     1007540   10102   \n",
       "17  farming|family farm|agriculture|agriculture jo...      277338   37533   \n",
       "18  chloe ting|chloeting|defamation|cyber bullying...     1648441  130147   \n",
       "19  JYP Entertainment|JYP|ITZY|있지|ITZY Video|ITZY ...     5999732  714287   \n",
       "20  sharks|sharkweek|jaws|shark attack|blood in wa...    14684474  544038   \n",
       "21  screenjunkies|screen junkies|honest trailers|h...      833369   50181   \n",
       "22  faze rug|rug|rugfaze|fazerug|hide n seek|hide ...     3061467  206840   \n",
       "23  james|james charles|makeup artist|covergirl|co...     3662673  394675   \n",
       "24  the ace family this is the end|ace family this...     2630410  185419   \n",
       "\n",
       "    dislikes  comment_count                                  thumbnail_link  \\\n",
       "0       5855          35313  https://i.ytimg.com/vi/3C66w5Z0ixs/default.jpg   \n",
       "1       2794          16549  https://i.ytimg.com/vi/M9Pmf9AB4Mo/default.jpg   \n",
       "2       2628          40221  https://i.ytimg.com/vi/J78aPJ3VyNs/default.jpg   \n",
       "3       1856           7647  https://i.ytimg.com/vi/kXLn3HkpjaA/default.jpg   \n",
       "4        964           2196  https://i.ytimg.com/vi/VIUo6yapDbc/default.jpg   \n",
       "5        746           7506  https://i.ytimg.com/vi/w-aidBdvZo8/default.jpg   \n",
       "6        440           4558  https://i.ytimg.com/vi/uet14uf9NsE/default.jpg   \n",
       "7        854           6455  https://i.ytimg.com/vi/ua4QMFQATco/default.jpg   \n",
       "8       2158           6613  https://i.ytimg.com/vi/SnsPZj91R7E/default.jpg   \n",
       "9       4373           5618  https://i.ytimg.com/vi/SsWHMAhshPQ/default.jpg   \n",
       "10      1860           7052  https://i.ytimg.com/vi/49Z6Mv4_WCA/default.jpg   \n",
       "11       409           2652  https://i.ytimg.com/vi/nt3VVyv5pxQ/default.jpg   \n",
       "12       774           2085  https://i.ytimg.com/vi/I6hswz4rIrU/default.jpg   \n",
       "13       293           1495  https://i.ytimg.com/vi/W7VK4DUHvKU/default.jpg   \n",
       "14      1678          16460  https://i.ytimg.com/vi/W9Aen8hG20Y/default.jpg   \n",
       "15        69            673  https://i.ytimg.com/vi/BNeDH6UTmXw/default.jpg   \n",
       "16      7932           2763  https://i.ytimg.com/vi/6TIsR_7nrNc/default.jpg   \n",
       "17       197           3666  https://i.ytimg.com/vi/gPdUslndvVI/default.jpg   \n",
       "18      1425          15773  https://i.ytimg.com/vi/GTp-0S82guE/default.jpg   \n",
       "19     15174          31039  https://i.ytimg.com/vi/jbGRowa5tIk/default.jpg   \n",
       "20     15818          33507  https://i.ytimg.com/vi/vePc5V4h_kg/default.jpg   \n",
       "21      1120           4634  https://i.ytimg.com/vi/5WjcDji3xYc/default.jpg   \n",
       "22      2646          14934  https://i.ytimg.com/vi/FopIxceEr8g/default.jpg   \n",
       "23      5757          27346  https://i.ytimg.com/vi/p7HGUZWq_8s/default.jpg   \n",
       "24      4744          15908  https://i.ytimg.com/vi/AMXT1ok5UBg/default.jpg   \n",
       "\n",
       "    comments_disabled  ratings_disabled  \\\n",
       "0               False             False   \n",
       "1               False             False   \n",
       "2               False             False   \n",
       "3               False             False   \n",
       "4               False             False   \n",
       "5               False             False   \n",
       "6               False             False   \n",
       "7               False             False   \n",
       "8               False             False   \n",
       "9               False             False   \n",
       "10              False             False   \n",
       "11              False             False   \n",
       "12              False             False   \n",
       "13              False             False   \n",
       "14              False             False   \n",
       "15              False             False   \n",
       "16              False             False   \n",
       "17              False             False   \n",
       "18              False             False   \n",
       "19              False             False   \n",
       "20              False             False   \n",
       "21              False             False   \n",
       "22              False             False   \n",
       "23              False             False   \n",
       "24              False             False   \n",
       "\n",
       "                                          description  \n",
       "0   SUBSCRIBE to BRAWADIS ▶ http://bit.ly/Subscrib...  \n",
       "1   While running her own modding shop, Ramya Pare...  \n",
       "2   I left youtube for a month and this is what ha...  \n",
       "3   Subscribe to XXL → http://bit.ly/subscribe-xxl...  \n",
       "4   Transforming The LaBrant Family's empty white ...  \n",
       "5   Subscribe To My Channel - https://www.youtube....  \n",
       "6   Hi babygirls!  Thank you so much for watching ...  \n",
       "7   ‣ What Was TEKOI: https://www.youtube.com/watc...  \n",
       "8   Since I was little, i've had these goals for m...  \n",
       "9   Vengo De Nada - Ovi x Natanael Cano x Aleman x...  \n",
       "10  ssend love to my sponsor; for a super Limited ...  \n",
       "11  You know what time it is— time to try not to l...  \n",
       "12  “Prepare. Execute. Vanish”Sam Fisher joins Tea...  \n",
       "13  Watch the official video for Lil Yachty & Futu...  \n",
       "14  500,000 Likes and I’ll drop a Part 6!Thanks fo...  \n",
       "15  Come hang out me with me for 10 minutes where ...  \n",
       "16  Kylie Jenner dissed over cameo in Cardi B and ...  \n",
       "17  Wind storm, rain, and lots of destruction; wel...  \n",
       "18  I talked about some claims about me that was h...  \n",
       "19  ITZY Not Shy M/V[ITZY Official] https://www.yo...  \n",
       "20  I personally got in the water and tested if Sh...  \n",
       "21  ►►Subscribe to ScreenJunkies!► https://fandom....  \n",
       "22  THIS WAS SO MUCH FUNWe played hide n seek for ...  \n",
       "23  HI SISTERS! Today’s video is a collaboration w...  \n",
       "24  THIS IS THE END.Shop on The RealReal and get $...  "
      ]
     },
     "execution_count": 192,
     "metadata": {},
     "output_type": "execute_result"
    }
   ],
   "source": [
    "import pandas as pd\n",
    "\n",
    "data = pd.read_csv('../data/US_youtube_trending_data.csv', header=0)\n",
    "\n",
    "print(f\"Number of rows and columns: {data.shape}\")\n",
    "data.head(25)"
   ]
  },
  {
   "cell_type": "markdown",
   "metadata": {
    "heading_collapsed": true,
    "pycharm": {
     "name": "#%% md\n"
    }
   },
   "source": [
    "## Data Treatment"
   ]
  },
  {
   "cell_type": "markdown",
   "metadata": {
    "heading_collapsed": true,
    "hidden": true,
    "pycharm": {
     "name": "#%% md\n"
    }
   },
   "source": [
    "### Check duplicates"
   ]
  },
  {
   "cell_type": "code",
   "execution_count": 193,
   "metadata": {
    "hidden": true,
    "pycharm": {
     "name": "#%%\n"
    }
   },
   "outputs": [
    {
     "name": "stdout",
     "output_type": "stream",
     "text": [
      "Number of duplicated values: 0\n"
     ]
    }
   ],
   "source": [
    "# TODO: print duplicates\n",
    "duplicated = data.duplicated()\n",
    "num_duplicated = 0\n",
    "\n",
    "for isDuplicated in duplicated:\n",
    "    num_duplicated += 1 if num_duplicated else 0\n",
    "\n",
    "print(f\"Number of duplicated values: {num_duplicated}\")"
   ]
  },
  {
   "cell_type": "code",
   "execution_count": 194,
   "metadata": {
    "hidden": true,
    "pycharm": {
     "name": "#%%\n"
    }
   },
   "outputs": [],
   "source": [
    "#TODO: fix duplicates"
   ]
  },
  {
   "cell_type": "markdown",
   "metadata": {
    "heading_collapsed": true,
    "hidden": true
   },
   "source": [
    "### Check NAN values"
   ]
  },
  {
   "cell_type": "code",
   "execution_count": 195,
   "metadata": {
    "hidden": true,
    "pycharm": {
     "name": "#%%\n"
    }
   },
   "outputs": [],
   "source": [
    "# TODO: print NAN values"
   ]
  },
  {
   "cell_type": "code",
   "execution_count": 196,
   "metadata": {
    "hidden": true,
    "pycharm": {
     "name": "#%%\n"
    }
   },
   "outputs": [],
   "source": [
    "# TODO: fix NAN"
   ]
  },
  {
   "cell_type": "code",
   "execution_count": 197,
   "metadata": {
    "hidden": true,
    "pycharm": {
     "name": "#%%\n"
    }
   },
   "outputs": [],
   "source": [
    "import numpy as np"
   ]
  },
  {
   "cell_type": "markdown",
   "metadata": {
    "heading_collapsed": true,
    "pycharm": {
     "name": "#%% md\n"
    }
   },
   "source": [
    "## Select target(y) and atribute (x)"
   ]
  },
  {
   "cell_type": "code",
   "execution_count": 198,
   "metadata": {
    "hidden": true,
    "pycharm": {
     "name": "#%%\n"
    }
   },
   "outputs": [],
   "source": [
    "numpy_data = data.to_numpy()"
   ]
  },
  {
   "cell_type": "code",
   "execution_count": 199,
   "metadata": {
    "hidden": true,
    "pycharm": {
     "name": "#%%\n"
    }
   },
   "outputs": [
    {
     "data": {
      "text/plain": [
       "0     22\n",
       "1     20\n",
       "2     24\n",
       "3     10\n",
       "4     26\n",
       "5     24\n",
       "6     26\n",
       "7     27\n",
       "8     24\n",
       "9     10\n",
       "10    22\n",
       "11    22\n",
       "12    20\n",
       "13    10\n",
       "14    23\n",
       "15    22\n",
       "16    24\n",
       "17    22\n",
       "18    26\n",
       "19    10\n",
       "20    28\n",
       "21     1\n",
       "22    24\n",
       "23    24\n",
       "24    22\n",
       "Name: categoryId, dtype: int64"
      ]
     },
     "execution_count": 199,
     "metadata": {},
     "output_type": "execute_result"
    }
   ],
   "source": [
    "x = data['categoryId']\n",
    "\n",
    "x.head(25)"
   ]
  },
  {
   "cell_type": "code",
   "execution_count": 200,
   "metadata": {
    "hidden": true,
    "pycharm": {
     "name": "#%%\n"
    }
   },
   "outputs": [
    {
     "data": {
      "text/plain": [
       "0      1514614\n",
       "1      2381688\n",
       "2      2038853\n",
       "3       496771\n",
       "4      1123889\n",
       "5       949491\n",
       "6       470446\n",
       "7      1050143\n",
       "8      1402687\n",
       "9       741028\n",
       "10      940036\n",
       "11      591837\n",
       "12      320872\n",
       "13      413372\n",
       "14      921261\n",
       "15      105955\n",
       "16     1007540\n",
       "17      277338\n",
       "18     1648441\n",
       "19     5999732\n",
       "20    14684474\n",
       "21      833369\n",
       "22     3061467\n",
       "23     3662673\n",
       "24     2630410\n",
       "Name: view_count, dtype: int64"
      ]
     },
     "execution_count": 200,
     "metadata": {},
     "output_type": "execute_result"
    }
   ],
   "source": [
    "y = data['view_count']\n",
    "\n",
    "y.head(25)"
   ]
  },
  {
   "cell_type": "markdown",
   "metadata": {
    "pycharm": {
     "name": "#%% md\n"
    }
   },
   "source": [
    "## Mean"
   ]
  },
  {
   "cell_type": "code",
   "execution_count": 201,
   "metadata": {
    "pycharm": {
     "name": "#%%\n"
    }
   },
   "outputs": [
    {
     "name": "stdout",
     "output_type": "stream",
     "text": [
      "Mean(x): 18.622594857875853\n"
     ]
    }
   ],
   "source": [
    "mean_x = np.mean(x)\n",
    "print(f\"Mean(x): {mean_x}\")"
   ]
  },
  {
   "cell_type": "code",
   "execution_count": 202,
   "metadata": {
    "pycharm": {
     "name": "#%%\n"
    }
   },
   "outputs": [
    {
     "name": "stdout",
     "output_type": "stream",
     "text": [
      "Mean(y): 2706730.433659906\n"
     ]
    }
   ],
   "source": [
    "mean_y = np.mean(y)\n",
    "print(f\"Mean(y): {mean_y}\")"
   ]
  },
  {
   "cell_type": "markdown",
   "metadata": {
    "pycharm": {
     "name": "#%% md\n"
    }
   },
   "source": [
    "## Variance"
   ]
  },
  {
   "cell_type": "code",
   "execution_count": 203,
   "metadata": {
    "pycharm": {
     "name": "#%%\n"
    }
   },
   "outputs": [
    {
     "name": "stdout",
     "output_type": "stream",
     "text": [
      "Var(x): 49.69740845512702\n"
     ]
    }
   ],
   "source": [
    "var_x = np.var(x)\n",
    "print(f\"Var(x): {var_x}\")"
   ]
  },
  {
   "cell_type": "code",
   "execution_count": 204,
   "metadata": {
    "pycharm": {
     "name": "#%%\n"
    }
   },
   "outputs": [
    {
     "name": "stdout",
     "output_type": "stream",
     "text": [
      "Var(y): 37743547310036.03\n"
     ]
    }
   ],
   "source": [
    "var_y = np.var(y)\n",
    "print(f\"Var(y): {var_y}\")"
   ]
  },
  {
   "cell_type": "markdown",
   "metadata": {
    "pycharm": {
     "name": "#%% md\n"
    }
   },
   "source": [
    "## Standard Deviation"
   ]
  },
  {
   "cell_type": "code",
   "execution_count": 205,
   "metadata": {
    "pycharm": {
     "name": "#%%\n"
    }
   },
   "outputs": [
    {
     "name": "stdout",
     "output_type": "stream",
     "text": [
      "STD(x): 18.622594857875853\n"
     ]
    }
   ],
   "source": [
    "std_x = np.std(x)\n",
    "print(f\"STD(x): {mean_x}\")\n"
   ]
  },
  {
   "cell_type": "code",
   "execution_count": 206,
   "metadata": {
    "pycharm": {
     "name": "#%%\n"
    }
   },
   "outputs": [
    {
     "name": "stdout",
     "output_type": "stream",
     "text": [
      "STD(y): 6143577.72881861\n"
     ]
    }
   ],
   "source": [
    "std_y = np.std(y)\n",
    "print(f\"STD(y): {std_y}\")\n"
   ]
  },
  {
   "cell_type": "markdown",
   "metadata": {
    "pycharm": {
     "name": "#%% md\n"
    }
   },
   "source": [
    "## Median"
   ]
  },
  {
   "cell_type": "code",
   "execution_count": 207,
   "metadata": {
    "pycharm": {
     "name": "#%%\n"
    }
   },
   "outputs": [
    {
     "name": "stdout",
     "output_type": "stream",
     "text": [
      "Median(x): 20.0\n"
     ]
    }
   ],
   "source": [
    "median_x = np.median(x)\n",
    "print(f\"Median(x): {median_x}\")\n"
   ]
  },
  {
   "cell_type": "code",
   "execution_count": 208,
   "metadata": {
    "pycharm": {
     "name": "#%%\n"
    }
   },
   "outputs": [
    {
     "name": "stdout",
     "output_type": "stream",
     "text": [
      "Median(y): 1129434.0\n"
     ]
    }
   ],
   "source": [
    "median_y = np.median(y)\n",
    "print(f\"Median(y): {median_y}\")"
   ]
  },
  {
   "cell_type": "markdown",
   "metadata": {
    "pycharm": {
     "name": "#%% md\n"
    }
   },
   "source": [
    "## Histogram"
   ]
  },
  {
   "cell_type": "code",
   "execution_count": 209,
   "metadata": {
    "pycharm": {
     "name": "#%%\n"
    }
   },
   "outputs": [],
   "source": [
    "import matplotlib.pyplot as plt\n",
    "from scipy import stats"
   ]
  },
  {
   "cell_type": "code",
   "execution_count": 210,
   "metadata": {
    "pycharm": {
     "name": "#%%\n"
    }
   },
   "outputs": [
    {
     "data": {
      "image/png": "[encoded data removed]",
      "text/plain": [
       "<Figure size 432x288 with 1 Axes>"
      ]
     },
     "metadata": {
      "needs_background": "light"
     },
     "output_type": "display_data"
    }
   ],
   "source": [
    "# (X histogram)\n",
    "\n",
    "plt.hist(x, bins = 'auto')\n",
    "plt.title('Data')\n",
    "plt.ylabel('Frequency')\n",
    "plt.xlabel('Values')\n",
    "plt.show()"
   ]
  },
  {
   "cell_type": "code",
   "execution_count": 211,
   "metadata": {
    "pycharm": {
     "name": "#%%\n"
    }
   },
   "outputs": [
    {
     "data": {
      "image/png": "[encoded data removed]",
      "text/plain": [
       "<Figure size 432x288 with 1 Axes>"
      ]
     },
     "metadata": {
      "needs_background": "light"
     },
     "output_type": "display_data"
    }
   ],
   "source": [
    "# (Y histogram)\n",
    "\n",
    "plt.hist(y, bins = 'auto')\n",
    "plt.title('Data')\n",
    "plt.ylabel('Frequency')\n",
    "plt.xlabel('Values')\n",
    "plt.show()"
   ]
  },
  {
   "cell_type": "markdown",
   "metadata": {
    "pycharm": {
     "name": "#%% md\n"
    }
   },
   "source": [
    "## X and Y Correlation"
   ]
  },
  {
   "cell_type": "code",
   "execution_count": 212,
   "metadata": {
    "pycharm": {
     "name": "#%%\n"
    }
   },
   "outputs": [
    {
     "data": {
      "text/plain": [
       "array([[ 1.        , -0.08332816],\n",
       "       [-0.08332816,  1.        ]])"
      ]
     },
     "execution_count": 212,
     "metadata": {},
     "output_type": "execute_result"
    }
   ],
   "source": [
    "# (Correlation Coefficients XY)\n",
    "\n",
    "np.corrcoef(x, y)"
   ]
  },
  {
   "cell_type": "markdown",
   "metadata": {
    "pycharm": {
     "name": "#%%\n"
    }
   },
   "source": [
    "## Normal Distribution"
   ]
  },
  {
   "cell_type": "markdown",
   "metadata": {},
   "source": [
    "### X"
   ]
  },
  {
   "cell_type": "code",
   "execution_count": 213,
   "metadata": {},
   "outputs": [],
   "source": [
    "from scipy.stats import shapiro"
   ]
  },
  {
   "cell_type": "code",
   "execution_count": 214,
   "metadata": {
    "scrolled": true
   },
   "outputs": [
    {
     "name": "stdout",
     "output_type": "stream",
     "text": [
      "Statistics=0.868, p=0.000\n",
      "Non-Gaussian (rejects H0)\n"
     ]
    }
   ],
   "source": [
    "# Check if categoryId has normal distribution\n",
    "\n",
    "x = numpy_data[:5000, 5]\n",
    "# Normality test\n",
    "stat, p  = shapiro(x)\n",
    "print('Statistics=%.3f, p=%.3f' % (stat, p))\n",
    "\n",
    "# interpretação\n",
    "alpha = 0.05\n",
    "if p > alpha:\n",
    "    print('Gaussian (accepts H0)')\n",
    "else:\n",
    "    print('Non-Gaussian (rejects H0)')"
   ]
  },
  {
   "cell_type": "code",
   "execution_count": 215,
   "metadata": {},
   "outputs": [
    {
     "data": {
      "image/png": "[encoded data removed]",
      "text/plain": [
       "<Figure size 432x288 with 1 Axes>"
      ]
     },
     "metadata": {
      "needs_background": "light"
     },
     "output_type": "display_data"
    }
   ],
   "source": [
    "# Verification in histogram\n",
    "plt.hist(x, bins = 'auto')\n",
    "plt.title('Dados')\n",
    "plt.ylabel('Frequência')\n",
    "plt.xlabel('Valores')\n",
    "plt.show()"
   ]
  },
  {
   "cell_type": "markdown",
   "metadata": {
    "heading_collapsed": true
   },
   "source": [
    "### Y"
   ]
  },
  {
   "cell_type": "code",
   "execution_count": 216,
   "metadata": {
    "hidden": true
   },
   "outputs": [
    {
     "name": "stdout",
     "output_type": "stream",
     "text": [
      "Statistics=0.189, p=0.000\n",
      "Non-Gaussian (rejects H0)\n"
     ]
    }
   ],
   "source": [
    "# Check if view_count has normal distribution\n",
    "\n",
    "y = numpy_data[:5000, 8]\n",
    "\n",
    "# Normality test\n",
    "stat, p  = shapiro(y)\n",
    "print('Statistics=%.3f, p=%.3f' % (stat, p))\n",
    "\n",
    "# interpretação\n",
    "alpha = 0.05\n",
    "if p > alpha:\n",
    "    print('Gaussian (accepts H0)')\n",
    "else:\n",
    "    print('Non-Gaussian (rejects H0)')"
   ]
  },
  {
   "cell_type": "code",
   "execution_count": 217,
   "metadata": {
    "hidden": true,
    "scrolled": true
   },
   "outputs": [
    {
     "data": {
      "image/png": "[encoded data removed]",
      "text/plain": [
       "<Figure size 432x288 with 1 Axes>"
      ]
     },
     "metadata": {
      "needs_background": "light"
     },
     "output_type": "display_data"
    }
   ],
   "source": [
    "# Verification in histogram\n",
    "plt.hist(y, bins = 'auto')\n",
    "plt.title('Dados')\n",
    "plt.ylabel('Frequência')\n",
    "plt.xlabel('Valores')\n",
    "plt.show()"
   ]
  },
  {
   "cell_type": "code",
   "execution_count": null,
   "metadata": {
    "hidden": true
   },
   "outputs": [],
   "source": []
  }
 ],
 "metadata": {
  "kernelspec": {
   "display_name": "Python 3",
   "language": "python",
   "name": "python3"
  },
  "language_info": {
   "codemirror_mode": {
    "name": "ipython",
    "version": 3
   },
   "file_extension": ".py",
   "mimetype": "text/x-python",
   "name": "python",
   "nbconvert_exporter": "python",
   "pygments_lexer": "ipython3",
   "version": "3.9.4"
  }
 },
 "nbformat": 4,
 "nbformat_minor": 1
}
